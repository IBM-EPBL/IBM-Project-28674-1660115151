{
  "nbformat": 4,
  "nbformat_minor": 0,
  "metadata": {
    "colab": {
      "provenance": []
    },
    "kernelspec": {
      "name": "python3",
      "display_name": "Python 3"
    },
    "language_info": {
      "name": "python"
    }
  },
  "cells": [
    {
      "cell_type": "markdown",
      "source": [
        "1. Download the dataset: Dataset\n"
      ],
      "metadata": {
        "id": "Odxb4VyZNDOl"
      }
    },
    {
      "cell_type": "markdown",
      "source": [
        "![image.png](data:image/png;base64,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)"
      ],
      "metadata": {
        "id": "hlfWWLwxNHcd"
      }
    },
    {
      "cell_type": "markdown",
      "source": [
        "2. Load the dataset into the tool."
      ],
      "metadata": {
        "id": "sDCRorn_NUIn"
      }
    },
    {
      "cell_type": "code",
      "source": [
        "import pandas as pd\n",
        "data = pd.read_csv(\"/content/Mall_Customers.csv\")"
      ],
      "metadata": {
        "id": "sbEIx7vNNXjH"
      },
      "execution_count": 1,
      "outputs": []
    },
    {
      "cell_type": "code",
      "source": [
        "data.head()"
      ],
      "metadata": {
        "colab": {
          "base_uri": "https://localhost:8080/",
          "height": 206
        },
        "id": "dXHx1CldNxZf",
        "outputId": "e5d41e24-251b-40db-9527-2023cb92f25c"
      },
      "execution_count": 2,
      "outputs": [
        {
          "output_type": "execute_result",
          "data": {
            "text/plain": [
              "   CustomerID  Gender  Age  Annual Income (k$)  Spending Score (1-100)\n",
              "0           1    Male   19                  15                      39\n",
              "1           2    Male   21                  15                      81\n",
              "2           3  Female   20                  16                       6\n",
              "3           4  Female   23                  16                      77\n",
              "4           5  Female   31                  17                      40"
            ],
            "text/html": [
              "\n",
              "  <div id=\"df-b63e01ce-4d51-4db7-913d-1f3604877131\">\n",
              "    <div class=\"colab-df-container\">\n",
              "      <div>\n",
              "<style scoped>\n",
              "    .dataframe tbody tr th:only-of-type {\n",
              "        vertical-align: middle;\n",
              "    }\n",
              "\n",
              "    .dataframe tbody tr th {\n",
              "        vertical-align: top;\n",
              "    }\n",
              "\n",
              "    .dataframe thead th {\n",
              "        text-align: right;\n",
              "    }\n",
              "</style>\n",
              "<table border=\"1\" class=\"dataframe\">\n",
              "  <thead>\n",
              "    <tr style=\"text-align: right;\">\n",
              "      <th></th>\n",
              "      <th>CustomerID</th>\n",
              "      <th>Gender</th>\n",
              "      <th>Age</th>\n",
              "      <th>Annual Income (k$)</th>\n",
              "      <th>Spending Score (1-100)</th>\n",
              "    </tr>\n",
              "  </thead>\n",
              "  <tbody>\n",
              "    <tr>\n",
              "      <th>0</th>\n",
              "      <td>1</td>\n",
              "      <td>Male</td>\n",
              "      <td>19</td>\n",
              "      <td>15</td>\n",
              "      <td>39</td>\n",
              "    </tr>\n",
              "    <tr>\n",
              "      <th>1</th>\n",
              "      <td>2</td>\n",
              "      <td>Male</td>\n",
              "      <td>21</td>\n",
              "      <td>15</td>\n",
              "      <td>81</td>\n",
              "    </tr>\n",
              "    <tr>\n",
              "      <th>2</th>\n",
              "      <td>3</td>\n",
              "      <td>Female</td>\n",
              "      <td>20</td>\n",
              "      <td>16</td>\n",
              "      <td>6</td>\n",
              "    </tr>\n",
              "    <tr>\n",
              "      <th>3</th>\n",
              "      <td>4</td>\n",
              "      <td>Female</td>\n",
              "      <td>23</td>\n",
              "      <td>16</td>\n",
              "      <td>77</td>\n",
              "    </tr>\n",
              "    <tr>\n",
              "      <th>4</th>\n",
              "      <td>5</td>\n",
              "      <td>Female</td>\n",
              "      <td>31</td>\n",
              "      <td>17</td>\n",
              "      <td>40</td>\n",
              "    </tr>\n",
              "  </tbody>\n",
              "</table>\n",
              "</div>\n",
              "      <button class=\"colab-df-convert\" onclick=\"convertToInteractive('df-b63e01ce-4d51-4db7-913d-1f3604877131')\"\n",
              "              title=\"Convert this dataframe to an interactive table.\"\n",
              "              style=\"display:none;\">\n",
              "        \n",
              "  <svg xmlns=\"http://www.w3.org/2000/svg\" height=\"24px\"viewBox=\"0 0 24 24\"\n",
              "       width=\"24px\">\n",
              "    <path d=\"M0 0h24v24H0V0z\" fill=\"none\"/>\n",
              "    <path d=\"M18.56 5.44l.94 2.06.94-2.06 2.06-.94-2.06-.94-.94-2.06-.94 2.06-2.06.94zm-11 1L8.5 8.5l.94-2.06 2.06-.94-2.06-.94L8.5 2.5l-.94 2.06-2.06.94zm10 10l.94 2.06.94-2.06 2.06-.94-2.06-.94-.94-2.06-.94 2.06-2.06.94z\"/><path d=\"M17.41 7.96l-1.37-1.37c-.4-.4-.92-.59-1.43-.59-.52 0-1.04.2-1.43.59L10.3 9.45l-7.72 7.72c-.78.78-.78 2.05 0 2.83L4 21.41c.39.39.9.59 1.41.59.51 0 1.02-.2 1.41-.59l7.78-7.78 2.81-2.81c.8-.78.8-2.07 0-2.86zM5.41 20L4 18.59l7.72-7.72 1.47 1.35L5.41 20z\"/>\n",
              "  </svg>\n",
              "      </button>\n",
              "      \n",
              "  <style>\n",
              "    .colab-df-container {\n",
              "      display:flex;\n",
              "      flex-wrap:wrap;\n",
              "      gap: 12px;\n",
              "    }\n",
              "\n",
              "    .colab-df-convert {\n",
              "      background-color: #E8F0FE;\n",
              "      border: none;\n",
              "      border-radius: 50%;\n",
              "      cursor: pointer;\n",
              "      display: none;\n",
              "      fill: #1967D2;\n",
              "      height: 32px;\n",
              "      padding: 0 0 0 0;\n",
              "      width: 32px;\n",
              "    }\n",
              "\n",
              "    .colab-df-convert:hover {\n",
              "      background-color: #E2EBFA;\n",
              "      box-shadow: 0px 1px 2px rgba(60, 64, 67, 0.3), 0px 1px 3px 1px rgba(60, 64, 67, 0.15);\n",
              "      fill: #174EA6;\n",
              "    }\n",
              "\n",
              "    [theme=dark] .colab-df-convert {\n",
              "      background-color: #3B4455;\n",
              "      fill: #D2E3FC;\n",
              "    }\n",
              "\n",
              "    [theme=dark] .colab-df-convert:hover {\n",
              "      background-color: #434B5C;\n",
              "      box-shadow: 0px 1px 3px 1px rgba(0, 0, 0, 0.15);\n",
              "      filter: drop-shadow(0px 1px 2px rgba(0, 0, 0, 0.3));\n",
              "      fill: #FFFFFF;\n",
              "    }\n",
              "  </style>\n",
              "\n",
              "      <script>\n",
              "        const buttonEl =\n",
              "          document.querySelector('#df-b63e01ce-4d51-4db7-913d-1f3604877131 button.colab-df-convert');\n",
              "        buttonEl.style.display =\n",
              "          google.colab.kernel.accessAllowed ? 'block' : 'none';\n",
              "\n",
              "        async function convertToInteractive(key) {\n",
              "          const element = document.querySelector('#df-b63e01ce-4d51-4db7-913d-1f3604877131');\n",
              "          const dataTable =\n",
              "            await google.colab.kernel.invokeFunction('convertToInteractive',\n",
              "                                                     [key], {});\n",
              "          if (!dataTable) return;\n",
              "\n",
              "          const docLinkHtml = 'Like what you see? Visit the ' +\n",
              "            '<a target=\"_blank\" href=https://colab.research.google.com/notebooks/data_table.ipynb>data table notebook</a>'\n",
              "            + ' to learn more about interactive tables.';\n",
              "          element.innerHTML = '';\n",
              "          dataTable['output_type'] = 'display_data';\n",
              "          await google.colab.output.renderOutput(dataTable, element);\n",
              "          const docLink = document.createElement('div');\n",
              "          docLink.innerHTML = docLinkHtml;\n",
              "          element.appendChild(docLink);\n",
              "        }\n",
              "      </script>\n",
              "    </div>\n",
              "  </div>\n",
              "  "
            ]
          },
          "metadata": {},
          "execution_count": 2
        }
      ]
    },
    {
      "cell_type": "code",
      "source": [
        "data.tail()"
      ],
      "metadata": {
        "colab": {
          "base_uri": "https://localhost:8080/",
          "height": 206
        },
        "id": "7HaJAzDAN8_Y",
        "outputId": "1d6cdc2d-ee7e-4723-cc49-798e49ab0afc"
      },
      "execution_count": 3,
      "outputs": [
        {
          "output_type": "execute_result",
          "data": {
            "text/plain": [
              "     CustomerID  Gender  Age  Annual Income (k$)  Spending Score (1-100)\n",
              "195         196  Female   35                 120                      79\n",
              "196         197  Female   45                 126                      28\n",
              "197         198    Male   32                 126                      74\n",
              "198         199    Male   32                 137                      18\n",
              "199         200    Male   30                 137                      83"
            ],
            "text/html": [
              "\n",
              "  <div id=\"df-b0ac2c5a-94d6-48b4-a358-0965d28fe54d\">\n",
              "    <div class=\"colab-df-container\">\n",
              "      <div>\n",
              "<style scoped>\n",
              "    .dataframe tbody tr th:only-of-type {\n",
              "        vertical-align: middle;\n",
              "    }\n",
              "\n",
              "    .dataframe tbody tr th {\n",
              "        vertical-align: top;\n",
              "    }\n",
              "\n",
              "    .dataframe thead th {\n",
              "        text-align: right;\n",
              "    }\n",
              "</style>\n",
              "<table border=\"1\" class=\"dataframe\">\n",
              "  <thead>\n",
              "    <tr style=\"text-align: right;\">\n",
              "      <th></th>\n",
              "      <th>CustomerID</th>\n",
              "      <th>Gender</th>\n",
              "      <th>Age</th>\n",
              "      <th>Annual Income (k$)</th>\n",
              "      <th>Spending Score (1-100)</th>\n",
              "    </tr>\n",
              "  </thead>\n",
              "  <tbody>\n",
              "    <tr>\n",
              "      <th>195</th>\n",
              "      <td>196</td>\n",
              "      <td>Female</td>\n",
              "      <td>35</td>\n",
              "      <td>120</td>\n",
              "      <td>79</td>\n",
              "    </tr>\n",
              "    <tr>\n",
              "      <th>196</th>\n",
              "      <td>197</td>\n",
              "      <td>Female</td>\n",
              "      <td>45</td>\n",
              "      <td>126</td>\n",
              "      <td>28</td>\n",
              "    </tr>\n",
              "    <tr>\n",
              "      <th>197</th>\n",
              "      <td>198</td>\n",
              "      <td>Male</td>\n",
              "      <td>32</td>\n",
              "      <td>126</td>\n",
              "      <td>74</td>\n",
              "    </tr>\n",
              "    <tr>\n",
              "      <th>198</th>\n",
              "      <td>199</td>\n",
              "      <td>Male</td>\n",
              "      <td>32</td>\n",
              "      <td>137</td>\n",
              "      <td>18</td>\n",
              "    </tr>\n",
              "    <tr>\n",
              "      <th>199</th>\n",
              "      <td>200</td>\n",
              "      <td>Male</td>\n",
              "      <td>30</td>\n",
              "      <td>137</td>\n",
              "      <td>83</td>\n",
              "    </tr>\n",
              "  </tbody>\n",
              "</table>\n",
              "</div>\n",
              "      <button class=\"colab-df-convert\" onclick=\"convertToInteractive('df-b0ac2c5a-94d6-48b4-a358-0965d28fe54d')\"\n",
              "              title=\"Convert this dataframe to an interactive table.\"\n",
              "              style=\"display:none;\">\n",
              "        \n",
              "  <svg xmlns=\"http://www.w3.org/2000/svg\" height=\"24px\"viewBox=\"0 0 24 24\"\n",
              "       width=\"24px\">\n",
              "    <path d=\"M0 0h24v24H0V0z\" fill=\"none\"/>\n",
              "    <path d=\"M18.56 5.44l.94 2.06.94-2.06 2.06-.94-2.06-.94-.94-2.06-.94 2.06-2.06.94zm-11 1L8.5 8.5l.94-2.06 2.06-.94-2.06-.94L8.5 2.5l-.94 2.06-2.06.94zm10 10l.94 2.06.94-2.06 2.06-.94-2.06-.94-.94-2.06-.94 2.06-2.06.94z\"/><path d=\"M17.41 7.96l-1.37-1.37c-.4-.4-.92-.59-1.43-.59-.52 0-1.04.2-1.43.59L10.3 9.45l-7.72 7.72c-.78.78-.78 2.05 0 2.83L4 21.41c.39.39.9.59 1.41.59.51 0 1.02-.2 1.41-.59l7.78-7.78 2.81-2.81c.8-.78.8-2.07 0-2.86zM5.41 20L4 18.59l7.72-7.72 1.47 1.35L5.41 20z\"/>\n",
              "  </svg>\n",
              "      </button>\n",
              "      \n",
              "  <style>\n",
              "    .colab-df-container {\n",
              "      display:flex;\n",
              "      flex-wrap:wrap;\n",
              "      gap: 12px;\n",
              "    }\n",
              "\n",
              "    .colab-df-convert {\n",
              "      background-color: #E8F0FE;\n",
              "      border: none;\n",
              "      border-radius: 50%;\n",
              "      cursor: pointer;\n",
              "      display: none;\n",
              "      fill: #1967D2;\n",
              "      height: 32px;\n",
              "      padding: 0 0 0 0;\n",
              "      width: 32px;\n",
              "    }\n",
              "\n",
              "    .colab-df-convert:hover {\n",
              "      background-color: #E2EBFA;\n",
              "      box-shadow: 0px 1px 2px rgba(60, 64, 67, 0.3), 0px 1px 3px 1px rgba(60, 64, 67, 0.15);\n",
              "      fill: #174EA6;\n",
              "    }\n",
              "\n",
              "    [theme=dark] .colab-df-convert {\n",
              "      background-color: #3B4455;\n",
              "      fill: #D2E3FC;\n",
              "    }\n",
              "\n",
              "    [theme=dark] .colab-df-convert:hover {\n",
              "      background-color: #434B5C;\n",
              "      box-shadow: 0px 1px 3px 1px rgba(0, 0, 0, 0.15);\n",
              "      filter: drop-shadow(0px 1px 2px rgba(0, 0, 0, 0.3));\n",
              "      fill: #FFFFFF;\n",
              "    }\n",
              "  </style>\n",
              "\n",
              "      <script>\n",
              "        const buttonEl =\n",
              "          document.querySelector('#df-b0ac2c5a-94d6-48b4-a358-0965d28fe54d button.colab-df-convert');\n",
              "        buttonEl.style.display =\n",
              "          google.colab.kernel.accessAllowed ? 'block' : 'none';\n",
              "\n",
              "        async function convertToInteractive(key) {\n",
              "          const element = document.querySelector('#df-b0ac2c5a-94d6-48b4-a358-0965d28fe54d');\n",
              "          const dataTable =\n",
              "            await google.colab.kernel.invokeFunction('convertToInteractive',\n",
              "                                                     [key], {});\n",
              "          if (!dataTable) return;\n",
              "\n",
              "          const docLinkHtml = 'Like what you see? Visit the ' +\n",
              "            '<a target=\"_blank\" href=https://colab.research.google.com/notebooks/data_table.ipynb>data table notebook</a>'\n",
              "            + ' to learn more about interactive tables.';\n",
              "          element.innerHTML = '';\n",
              "          dataTable['output_type'] = 'display_data';\n",
              "          await google.colab.output.renderOutput(dataTable, element);\n",
              "          const docLink = document.createElement('div');\n",
              "          docLink.innerHTML = docLinkHtml;\n",
              "          element.appendChild(docLink);\n",
              "        }\n",
              "      </script>\n",
              "    </div>\n",
              "  </div>\n",
              "  "
            ]
          },
          "metadata": {},
          "execution_count": 3
        }
      ]
    },
    {
      "cell_type": "code",
      "source": [
        "data.shape"
      ],
      "metadata": {
        "colab": {
          "base_uri": "https://localhost:8080/"
        },
        "id": "pg7pXdRMN-hL",
        "outputId": "590e982d-4fee-4379-cb13-da1880edc3a8"
      },
      "execution_count": 4,
      "outputs": [
        {
          "output_type": "execute_result",
          "data": {
            "text/plain": [
              "(200, 5)"
            ]
          },
          "metadata": {},
          "execution_count": 4
        }
      ]
    },
    {
      "cell_type": "code",
      "source": [
        "data.info()"
      ],
      "metadata": {
        "colab": {
          "base_uri": "https://localhost:8080/"
        },
        "id": "pPPUlbFGOEZA",
        "outputId": "e9fa5df5-065f-40bf-dfbe-dc9da7fb2df5"
      },
      "execution_count": 5,
      "outputs": [
        {
          "output_type": "stream",
          "name": "stdout",
          "text": [
            "<class 'pandas.core.frame.DataFrame'>\n",
            "RangeIndex: 200 entries, 0 to 199\n",
            "Data columns (total 5 columns):\n",
            " #   Column                  Non-Null Count  Dtype \n",
            "---  ------                  --------------  ----- \n",
            " 0   CustomerID              200 non-null    int64 \n",
            " 1   Gender                  200 non-null    object\n",
            " 2   Age                     200 non-null    int64 \n",
            " 3   Annual Income (k$)      200 non-null    int64 \n",
            " 4   Spending Score (1-100)  200 non-null    int64 \n",
            "dtypes: int64(4), object(1)\n",
            "memory usage: 7.9+ KB\n"
          ]
        }
      ]
    },
    {
      "cell_type": "markdown",
      "source": [
        "3. Perform Below Visualizations. 1) uni variate analysis 2) bi variate analysis 3) multi variate analysis\n"
      ],
      "metadata": {
        "id": "nKdDePBoOLLK"
      }
    },
    {
      "cell_type": "code",
      "source": [
        "# uni variate analysis\n",
        "import seaborn as sns\n",
        "sns.distplot(data['Age'])"
      ],
      "metadata": {
        "colab": {
          "base_uri": "https://localhost:8080/",
          "height": 351
        },
        "id": "wbMGErPsOOGE",
        "outputId": "c43d491d-899c-4b89-fffb-d5fc6651bd5a"
      },
      "execution_count": 6,
      "outputs": [
        {
          "output_type": "stream",
          "name": "stderr",
          "text": [
            "/usr/local/lib/python3.7/dist-packages/seaborn/distributions.py:2619: FutureWarning: `distplot` is a deprecated function and will be removed in a future version. Please adapt your code to use either `displot` (a figure-level function with similar flexibility) or `histplot` (an axes-level function for histograms).\n",
            "  warnings.warn(msg, FutureWarning)\n"
          ]
        },
        {
          "output_type": "execute_result",
          "data": {
            "text/plain": [
              "<matplotlib.axes._subplots.AxesSubplot at 0x7f46ee2c08d0>"
            ]
          },
          "metadata": {},
          "execution_count": 6
        },
        {
          "output_type": "display_data",
          "data": {
            "text/plain": [
              "<Figure size 432x288 with 1 Axes>"
            ],
            "image/png": "[encoded data removed]"
          },
          "metadata": {
            "needs_background": "light"
          }
        }
      ]
    },
    {
      "cell_type": "code",
      "source": [
        "import seaborn as sns\n",
        "sns.histplot(data['Age'])"
      ],
      "metadata": {
        "colab": {
          "base_uri": "https://localhost:8080/",
          "height": 296
        },
        "id": "HLdTDPPjOW6X",
        "outputId": "22e1ba8d-c166-41ee-8140-c2eba8fea649"
      },
      "execution_count": 7,
      "outputs": [
        {
          "output_type": "execute_result",
          "data": {
            "text/plain": [
              "<matplotlib.axes._subplots.AxesSubplot at 0x7f46ed91eb10>"
            ]
          },
          "metadata": {},
          "execution_count": 7
        },
        {
          "output_type": "display_data",
          "data": {
            "text/plain": [
              "<Figure size 432x288 with 1 Axes>"
            ],
            "image/png": "[encoded data removed]"
          },
          "metadata": {
            "needs_background": "light"
          }
        }
      ]
    },
    {
      "cell_type": "code",
      "source": [
        "import seaborn as sns\n",
        "sns.boxplot(data['Age'])"
      ],
      "metadata": {
        "colab": {
          "base_uri": "https://localhost:8080/",
          "height": 351
        },
        "id": "zy2HZ-KBObKD",
        "outputId": "7f0fe73f-b945-44d6-e179-422d0ccc4ffe"
      },
      "execution_count": 8,
      "outputs": [
        {
          "output_type": "stream",
          "name": "stderr",
          "text": [
            "/usr/local/lib/python3.7/dist-packages/seaborn/_decorators.py:43: FutureWarning: Pass the following variable as a keyword arg: x. From version 0.12, the only valid positional argument will be `data`, and passing other arguments without an explicit keyword will result in an error or misinterpretation.\n",
            "  FutureWarning\n"
          ]
        },
        {
          "output_type": "execute_result",
          "data": {
            "text/plain": [
              "<matplotlib.axes._subplots.AxesSubplot at 0x7f46ed485ad0>"
            ]
          },
          "metadata": {},
          "execution_count": 8
        },
        {
          "output_type": "display_data",
          "data": {
            "text/plain": [
              "<Figure size 432x288 with 1 Axes>"
            ],
            "image/png": "[encoded data removed]"
          },
          "metadata": {
            "needs_background": "light"
          }
        }
      ]
    },
    {
      "cell_type": "markdown",
      "source": [
        "Bi variate analysis\n"
      ],
      "metadata": {
        "id": "GmkZfaDtOiFE"
      }
    },
    {
      "cell_type": "code",
      "source": [
        "import seaborn as sns\n",
        "sns.lineplot(data['Annual Income (k$)'], data['Spending Score (1-100)'])"
      ],
      "metadata": {
        "colab": {
          "base_uri": "https://localhost:8080/",
          "height": 351
        },
        "id": "73L3njPXOjbY",
        "outputId": "9134246d-67a0-4636-b218-0f98f55209a1"
      },
      "execution_count": 9,
      "outputs": [
        {
          "output_type": "stream",
          "name": "stderr",
          "text": [
            "/usr/local/lib/python3.7/dist-packages/seaborn/_decorators.py:43: FutureWarning: Pass the following variables as keyword args: x, y. From version 0.12, the only valid positional argument will be `data`, and passing other arguments without an explicit keyword will result in an error or misinterpretation.\n",
            "  FutureWarning\n"
          ]
        },
        {
          "output_type": "execute_result",
          "data": {
            "text/plain": [
              "<matplotlib.axes._subplots.AxesSubplot at 0x7f46ed4033d0>"
            ]
          },
          "metadata": {},
          "execution_count": 9
        },
        {
          "output_type": "display_data",
          "data": {
            "text/plain": [
              "<Figure size 432x288 with 1 Axes>"
            ],
            "image/png": "[encoded data removed]"
          },
          "metadata": {
            "needs_background": "light"
          }
        }
      ]
    },
    {
      "cell_type": "code",
      "source": [
        "import seaborn as sns\n",
        "sns.barplot(data['Annual Income (k$)'], data['Spending Score (1-100)'])"
      ],
      "metadata": {
        "colab": {
          "base_uri": "https://localhost:8080/",
          "height": 351
        },
        "id": "hDCPQet9O8E5",
        "outputId": "4c781b61-d5d3-4048-c6f8-e6977517f66b"
      },
      "execution_count": 10,
      "outputs": [
        {
          "output_type": "stream",
          "name": "stderr",
          "text": [
            "/usr/local/lib/python3.7/dist-packages/seaborn/_decorators.py:43: FutureWarning: Pass the following variables as keyword args: x, y. From version 0.12, the only valid positional argument will be `data`, and passing other arguments without an explicit keyword will result in an error or misinterpretation.\n",
            "  FutureWarning\n"
          ]
        },
        {
          "output_type": "execute_result",
          "data": {
            "text/plain": [
              "<matplotlib.axes._subplots.AxesSubplot at 0x7f46ed33b810>"
            ]
          },
          "metadata": {},
          "execution_count": 10
        },
        {
          "output_type": "display_data",
          "data": {
            "text/plain": [
              "<Figure size 432x288 with 1 Axes>"
            ],
            "image/png": "[encoded data removed]"
          },
          "metadata": {
            "needs_background": "light"
          }
        }
      ]
    },
    {
      "cell_type": "code",
      "source": [
        "import matplotlib.pyplot as plt\n",
        "plt.figure(figsize=(50,50))\n",
        "sns.barplot(data['Annual Income (k$)'], data['Spending Score (1-100)'])"
      ],
      "metadata": {
        "colab": {
          "base_uri": "https://localhost:8080/",
          "height": 1000
        },
        "id": "Z_D-89KZPH9P",
        "outputId": "5df92c3a-db8b-4730-94dc-55aa0611add5"
      },
      "execution_count": 11,
      "outputs": [
        {
          "output_type": "stream",
          "name": "stderr",
          "text": [
            "/usr/local/lib/python3.7/dist-packages/seaborn/_decorators.py:43: FutureWarning: Pass the following variables as keyword args: x, y. From version 0.12, the only valid positional argument will be `data`, and passing other arguments without an explicit keyword will result in an error or misinterpretation.\n",
            "  FutureWarning\n"
          ]
        },
        {
          "output_type": "execute_result",
          "data": {
            "text/plain": [
              "<matplotlib.axes._subplots.AxesSubplot at 0x7f46ed32e250>"
            ]
          },
          "metadata": {},
          "execution_count": 11
        },
        {
          "output_type": "display_data",
          "data": {
            "text/plain": [
              "<Figure size 3600x3600 with 1 Axes>"
            ],
            "image/png": "[encoded data removed]"
          },
          "metadata": {
            "needs_background": "light"
          }
        }
      ]
    },
    {
      "cell_type": "code",
      "source": [
        "sns.scatterplot(data['Annual Income (k$)'], data['Spending Score (1-100)'])"
      ],
      "metadata": {
        "colab": {
          "base_uri": "https://localhost:8080/",
          "height": 351
        },
        "id": "NpR0dBIdPTz1",
        "outputId": "968fa0b2-9a1a-4637-f046-b87dbc3fee1b"
      },
      "execution_count": 12,
      "outputs": [
        {
          "output_type": "stream",
          "name": "stderr",
          "text": [
            "/usr/local/lib/python3.7/dist-packages/seaborn/_decorators.py:43: FutureWarning: Pass the following variables as keyword args: x, y. From version 0.12, the only valid positional argument will be `data`, and passing other arguments without an explicit keyword will result in an error or misinterpretation.\n",
            "  FutureWarning\n"
          ]
        },
        {
          "output_type": "execute_result",
          "data": {
            "text/plain": [
              "<matplotlib.axes._subplots.AxesSubplot at 0x7f46ecdb4890>"
            ]
          },
          "metadata": {},
          "execution_count": 12
        },
        {
          "output_type": "display_data",
          "data": {
            "text/plain": [
              "<Figure size 432x288 with 1 Axes>"
            ],
            "image/png": "[encoded data removed]"
          },
          "metadata": {
            "needs_background": "light"
          }
        }
      ]
    },
    {
      "cell_type": "code",
      "source": [
        "sns.scatterplot(data['Annual Income (k$)'], data['Spending Score (1-100)'], hue = data['Gender'])"
      ],
      "metadata": {
        "colab": {
          "base_uri": "https://localhost:8080/",
          "height": 351
        },
        "id": "tBo64ralPnwZ",
        "outputId": "01dc2ebd-125a-4404-9d73-6aab16adc091"
      },
      "execution_count": 13,
      "outputs": [
        {
          "output_type": "stream",
          "name": "stderr",
          "text": [
            "/usr/local/lib/python3.7/dist-packages/seaborn/_decorators.py:43: FutureWarning: Pass the following variables as keyword args: x, y. From version 0.12, the only valid positional argument will be `data`, and passing other arguments without an explicit keyword will result in an error or misinterpretation.\n",
            "  FutureWarning\n"
          ]
        },
        {
          "output_type": "execute_result",
          "data": {
            "text/plain": [
              "<matplotlib.axes._subplots.AxesSubplot at 0x7f46eb56dad0>"
            ]
          },
          "metadata": {},
          "execution_count": 13
        },
        {
          "output_type": "display_data",
          "data": {
            "text/plain": [
              "<Figure size 432x288 with 1 Axes>"
            ],
            "image/png": "[encoded data removed]"
          },
          "metadata": {
            "needs_background": "light"
          }
        }
      ]
    },
    {
      "cell_type": "code",
      "source": [
        "sns.pairplot(data)"
      ],
      "metadata": {
        "colab": {
          "base_uri": "https://localhost:8080/",
          "height": 743
        },
        "id": "33fArL7pP4qB",
        "outputId": "97239d93-c519-41fd-a57a-1bcf3ff31058"
      },
      "execution_count": 14,
      "outputs": [
        {
          "output_type": "execute_result",
          "data": {
            "text/plain": [
              "<seaborn.axisgrid.PairGrid at 0x7f46ed09f410>"
            ]
          },
          "metadata": {},
          "execution_count": 14
        },
        {
          "output_type": "display_data",
          "data": {
            "text/plain": [
              "<Figure size 720x720 with 20 Axes>"
            ],
            "image/png": "[encoded data removed]"
          },
          "metadata": {
            "needs_background": "light"
          }
        }
      ]
    },
    {
      "cell_type": "code",
      "source": [
        "data.corr()"
      ],
      "metadata": {
        "colab": {
          "base_uri": "https://localhost:8080/",
          "height": 175
        },
        "id": "Y5BuikfCQAhs",
        "outputId": "5526b66e-ef8a-4d2e-8006-f6f776d64acb"
      },
      "execution_count": 15,
      "outputs": [
        {
          "output_type": "execute_result",
          "data": {
            "text/plain": [
              "                        CustomerID       Age  Annual Income (k$)  \\\n",
              "CustomerID                1.000000 -0.026763            0.977548   \n",
              "Age                      -0.026763  1.000000           -0.012398   \n",
              "Annual Income (k$)        0.977548 -0.012398            1.000000   \n",
              "Spending Score (1-100)    0.013835 -0.327227            0.009903   \n",
              "\n",
              "                        Spending Score (1-100)  \n",
              "CustomerID                            0.013835  \n",
              "Age                                  -0.327227  \n",
              "Annual Income (k$)                    0.009903  \n",
              "Spending Score (1-100)                1.000000  "
            ],
            "text/html": [
              "\n",
              "  <div id=\"df-7275db02-77db-43de-a92e-6fdacd5dcb2d\">\n",
              "    <div class=\"colab-df-container\">\n",
              "      <div>\n",
              "<style scoped>\n",
              "    .dataframe tbody tr th:only-of-type {\n",
              "        vertical-align: middle;\n",
              "    }\n",
              "\n",
              "    .dataframe tbody tr th {\n",
              "        vertical-align: top;\n",
              "    }\n",
              "\n",
              "    .dataframe thead th {\n",
              "        text-align: right;\n",
              "    }\n",
              "</style>\n",
              "<table border=\"1\" class=\"dataframe\">\n",
              "  <thead>\n",
              "    <tr style=\"text-align: right;\">\n",
              "      <th></th>\n",
              "      <th>CustomerID</th>\n",
              "      <th>Age</th>\n",
              "      <th>Annual Income (k$)</th>\n",
              "      <th>Spending Score (1-100)</th>\n",
              "    </tr>\n",
              "  </thead>\n",
              "  <tbody>\n",
              "    <tr>\n",
              "      <th>CustomerID</th>\n",
              "      <td>1.000000</td>\n",
              "      <td>-0.026763</td>\n",
              "      <td>0.977548</td>\n",
              "      <td>0.013835</td>\n",
              "    </tr>\n",
              "    <tr>\n",
              "      <th>Age</th>\n",
              "      <td>-0.026763</td>\n",
              "      <td>1.000000</td>\n",
              "      <td>-0.012398</td>\n",
              "      <td>-0.327227</td>\n",
              "    </tr>\n",
              "    <tr>\n",
              "      <th>Annual Income (k$)</th>\n",
              "      <td>0.977548</td>\n",
              "      <td>-0.012398</td>\n",
              "      <td>1.000000</td>\n",
              "      <td>0.009903</td>\n",
              "    </tr>\n",
              "    <tr>\n",
              "      <th>Spending Score (1-100)</th>\n",
              "      <td>0.013835</td>\n",
              "      <td>-0.327227</td>\n",
              "      <td>0.009903</td>\n",
              "      <td>1.000000</td>\n",
              "    </tr>\n",
              "  </tbody>\n",
              "</table>\n",
              "</div>\n",
              "      <button class=\"colab-df-convert\" onclick=\"convertToInteractive('df-7275db02-77db-43de-a92e-6fdacd5dcb2d')\"\n",
              "              title=\"Convert this dataframe to an interactive table.\"\n",
              "              style=\"display:none;\">\n",
              "        \n",
              "  <svg xmlns=\"http://www.w3.org/2000/svg\" height=\"24px\"viewBox=\"0 0 24 24\"\n",
              "       width=\"24px\">\n",
              "    <path d=\"M0 0h24v24H0V0z\" fill=\"none\"/>\n",
              "    <path d=\"M18.56 5.44l.94 2.06.94-2.06 2.06-.94-2.06-.94-.94-2.06-.94 2.06-2.06.94zm-11 1L8.5 8.5l.94-2.06 2.06-.94-2.06-.94L8.5 2.5l-.94 2.06-2.06.94zm10 10l.94 2.06.94-2.06 2.06-.94-2.06-.94-.94-2.06-.94 2.06-2.06.94z\"/><path d=\"M17.41 7.96l-1.37-1.37c-.4-.4-.92-.59-1.43-.59-.52 0-1.04.2-1.43.59L10.3 9.45l-7.72 7.72c-.78.78-.78 2.05 0 2.83L4 21.41c.39.39.9.59 1.41.59.51 0 1.02-.2 1.41-.59l7.78-7.78 2.81-2.81c.8-.78.8-2.07 0-2.86zM5.41 20L4 18.59l7.72-7.72 1.47 1.35L5.41 20z\"/>\n",
              "  </svg>\n",
              "      </button>\n",
              "      \n",
              "  <style>\n",
              "    .colab-df-container {\n",
              "      display:flex;\n",
              "      flex-wrap:wrap;\n",
              "      gap: 12px;\n",
              "    }\n",
              "\n",
              "    .colab-df-convert {\n",
              "      background-color: #E8F0FE;\n",
              "      border: none;\n",
              "      border-radius: 50%;\n",
              "      cursor: pointer;\n",
              "      display: none;\n",
              "      fill: #1967D2;\n",
              "      height: 32px;\n",
              "      padding: 0 0 0 0;\n",
              "      width: 32px;\n",
              "    }\n",
              "\n",
              "    .colab-df-convert:hover {\n",
              "      background-color: #E2EBFA;\n",
              "      box-shadow: 0px 1px 2px rgba(60, 64, 67, 0.3), 0px 1px 3px 1px rgba(60, 64, 67, 0.15);\n",
              "      fill: #174EA6;\n",
              "    }\n",
              "\n",
              "    [theme=dark] .colab-df-convert {\n",
              "      background-color: #3B4455;\n",
              "      fill: #D2E3FC;\n",
              "    }\n",
              "\n",
              "    [theme=dark] .colab-df-convert:hover {\n",
              "      background-color: #434B5C;\n",
              "      box-shadow: 0px 1px 3px 1px rgba(0, 0, 0, 0.15);\n",
              "      filter: drop-shadow(0px 1px 2px rgba(0, 0, 0, 0.3));\n",
              "      fill: #FFFFFF;\n",
              "    }\n",
              "  </style>\n",
              "\n",
              "      <script>\n",
              "        const buttonEl =\n",
              "          document.querySelector('#df-7275db02-77db-43de-a92e-6fdacd5dcb2d button.colab-df-convert');\n",
              "        buttonEl.style.display =\n",
              "          google.colab.kernel.accessAllowed ? 'block' : 'none';\n",
              "\n",
              "        async function convertToInteractive(key) {\n",
              "          const element = document.querySelector('#df-7275db02-77db-43de-a92e-6fdacd5dcb2d');\n",
              "          const dataTable =\n",
              "            await google.colab.kernel.invokeFunction('convertToInteractive',\n",
              "                                                     [key], {});\n",
              "          if (!dataTable) return;\n",
              "\n",
              "          const docLinkHtml = 'Like what you see? Visit the ' +\n",
              "            '<a target=\"_blank\" href=https://colab.research.google.com/notebooks/data_table.ipynb>data table notebook</a>'\n",
              "            + ' to learn more about interactive tables.';\n",
              "          element.innerHTML = '';\n",
              "          dataTable['output_type'] = 'display_data';\n",
              "          await google.colab.output.renderOutput(dataTable, element);\n",
              "          const docLink = document.createElement('div');\n",
              "          docLink.innerHTML = docLinkHtml;\n",
              "          element.appendChild(docLink);\n",
              "        }\n",
              "      </script>\n",
              "    </div>\n",
              "  </div>\n",
              "  "
            ]
          },
          "metadata": {},
          "execution_count": 15
        }
      ]
    },
    {
      "cell_type": "code",
      "source": [
        "sns.heatmap(data.corr(), annot = True)"
      ],
      "metadata": {
        "colab": {
          "base_uri": "https://localhost:8080/",
          "height": 394
        },
        "id": "Q8PrPOfbQFcC",
        "outputId": "d559cfa4-d8a1-4e61-b716-d76eb19ed782"
      },
      "execution_count": 16,
      "outputs": [
        {
          "output_type": "execute_result",
          "data": {
            "text/plain": [
              "<matplotlib.axes._subplots.AxesSubplot at 0x7f46ee29c1d0>"
            ]
          },
          "metadata": {},
          "execution_count": 16
        },
        {
          "output_type": "display_data",
          "data": {
            "text/plain": [
              "<Figure size 432x288 with 2 Axes>"
            ],
            "image/png": "[encoded data removed]"
          },
          "metadata": {
            "needs_background": "light"
          }
        }
      ]
    },
    {
      "cell_type": "markdown",
      "source": [
        "4. Perform descriptive statistics on the dataset."
      ],
      "metadata": {
        "id": "aQRyeE9FQMWv"
      }
    },
    {
      "cell_type": "code",
      "source": [
        "data.mean()"
      ],
      "metadata": {
        "colab": {
          "base_uri": "https://localhost:8080/"
        },
        "id": "FhMXeysdQNfh",
        "outputId": "994a6081-a621-4aa4-b02d-93a33694bd7f"
      },
      "execution_count": 17,
      "outputs": [
        {
          "output_type": "stream",
          "name": "stderr",
          "text": [
            "/usr/local/lib/python3.7/dist-packages/ipykernel_launcher.py:1: FutureWarning: Dropping of nuisance columns in DataFrame reductions (with 'numeric_only=None') is deprecated; in a future version this will raise TypeError.  Select only valid columns before calling the reduction.\n",
            "  \"\"\"Entry point for launching an IPython kernel.\n"
          ]
        },
        {
          "output_type": "execute_result",
          "data": {
            "text/plain": [
              "CustomerID                100.50\n",
              "Age                        38.85\n",
              "Annual Income (k$)         60.56\n",
              "Spending Score (1-100)     50.20\n",
              "dtype: float64"
            ]
          },
          "metadata": {},
          "execution_count": 17
        }
      ]
    },
    {
      "cell_type": "code",
      "source": [
        "data.median()"
      ],
      "metadata": {
        "colab": {
          "base_uri": "https://localhost:8080/"
        },
        "id": "UtBAloayQTDT",
        "outputId": "34ba2123-c2ec-4d90-8833-d310abda4e05"
      },
      "execution_count": 18,
      "outputs": [
        {
          "output_type": "stream",
          "name": "stderr",
          "text": [
            "/usr/local/lib/python3.7/dist-packages/ipykernel_launcher.py:1: FutureWarning: Dropping of nuisance columns in DataFrame reductions (with 'numeric_only=None') is deprecated; in a future version this will raise TypeError.  Select only valid columns before calling the reduction.\n",
            "  \"\"\"Entry point for launching an IPython kernel.\n"
          ]
        },
        {
          "output_type": "execute_result",
          "data": {
            "text/plain": [
              "CustomerID                100.5\n",
              "Age                        36.0\n",
              "Annual Income (k$)         61.5\n",
              "Spending Score (1-100)     50.0\n",
              "dtype: float64"
            ]
          },
          "metadata": {},
          "execution_count": 18
        }
      ]
    },
    {
      "cell_type": "code",
      "source": [
        "data.mode()"
      ],
      "metadata": {
        "colab": {
          "base_uri": "https://localhost:8080/",
          "height": 424
        },
        "id": "exO7VyecQVWD",
        "outputId": "44fb0153-681a-46d7-b19e-6b19a4252d13"
      },
      "execution_count": 19,
      "outputs": [
        {
          "output_type": "execute_result",
          "data": {
            "text/plain": [
              "     CustomerID  Gender   Age  Annual Income (k$)  Spending Score (1-100)\n",
              "0             1  Female  32.0                54.0                    42.0\n",
              "1             2     NaN   NaN                78.0                     NaN\n",
              "2             3     NaN   NaN                 NaN                     NaN\n",
              "3             4     NaN   NaN                 NaN                     NaN\n",
              "4             5     NaN   NaN                 NaN                     NaN\n",
              "..          ...     ...   ...                 ...                     ...\n",
              "195         196     NaN   NaN                 NaN                     NaN\n",
              "196         197     NaN   NaN                 NaN                     NaN\n",
              "197         198     NaN   NaN                 NaN                     NaN\n",
              "198         199     NaN   NaN                 NaN                     NaN\n",
              "199         200     NaN   NaN                 NaN                     NaN\n",
              "\n",
              "[200 rows x 5 columns]"
            ],
            "text/html": [
              "\n",
              "  <div id=\"df-6982d063-03ee-4335-9826-974ddf6dc0cf\">\n",
              "    <div class=\"colab-df-container\">\n",
              "      <div>\n",
              "<style scoped>\n",
              "    .dataframe tbody tr th:only-of-type {\n",
              "        vertical-align: middle;\n",
              "    }\n",
              "\n",
              "    .dataframe tbody tr th {\n",
              "        vertical-align: top;\n",
              "    }\n",
              "\n",
              "    .dataframe thead th {\n",
              "        text-align: right;\n",
              "    }\n",
              "</style>\n",
              "<table border=\"1\" class=\"dataframe\">\n",
              "  <thead>\n",
              "    <tr style=\"text-align: right;\">\n",
              "      <th></th>\n",
              "      <th>CustomerID</th>\n",
              "      <th>Gender</th>\n",
              "      <th>Age</th>\n",
              "      <th>Annual Income (k$)</th>\n",
              "      <th>Spending Score (1-100)</th>\n",
              "    </tr>\n",
              "  </thead>\n",
              "  <tbody>\n",
              "    <tr>\n",
              "      <th>0</th>\n",
              "      <td>1</td>\n",
              "      <td>Female</td>\n",
              "      <td>32.0</td>\n",
              "      <td>54.0</td>\n",
              "      <td>42.0</td>\n",
              "    </tr>\n",
              "    <tr>\n",
              "      <th>1</th>\n",
              "      <td>2</td>\n",
              "      <td>NaN</td>\n",
              "      <td>NaN</td>\n",
              "      <td>78.0</td>\n",
              "      <td>NaN</td>\n",
              "    </tr>\n",
              "    <tr>\n",
              "      <th>2</th>\n",
              "      <td>3</td>\n",
              "      <td>NaN</td>\n",
              "      <td>NaN</td>\n",
              "      <td>NaN</td>\n",
              "      <td>NaN</td>\n",
              "    </tr>\n",
              "    <tr>\n",
              "      <th>3</th>\n",
              "      <td>4</td>\n",
              "      <td>NaN</td>\n",
              "      <td>NaN</td>\n",
              "      <td>NaN</td>\n",
              "      <td>NaN</td>\n",
              "    </tr>\n",
              "    <tr>\n",
              "      <th>4</th>\n",
              "      <td>5</td>\n",
              "      <td>NaN</td>\n",
              "      <td>NaN</td>\n",
              "      <td>NaN</td>\n",
              "      <td>NaN</td>\n",
              "    </tr>\n",
              "    <tr>\n",
              "      <th>...</th>\n",
              "      <td>...</td>\n",
              "      <td>...</td>\n",
              "      <td>...</td>\n",
              "      <td>...</td>\n",
              "      <td>...</td>\n",
              "    </tr>\n",
              "    <tr>\n",
              "      <th>195</th>\n",
              "      <td>196</td>\n",
              "      <td>NaN</td>\n",
              "      <td>NaN</td>\n",
              "      <td>NaN</td>\n",
              "      <td>NaN</td>\n",
              "    </tr>\n",
              "    <tr>\n",
              "      <th>196</th>\n",
              "      <td>197</td>\n",
              "      <td>NaN</td>\n",
              "      <td>NaN</td>\n",
              "      <td>NaN</td>\n",
              "      <td>NaN</td>\n",
              "    </tr>\n",
              "    <tr>\n",
              "      <th>197</th>\n",
              "      <td>198</td>\n",
              "      <td>NaN</td>\n",
              "      <td>NaN</td>\n",
              "      <td>NaN</td>\n",
              "      <td>NaN</td>\n",
              "    </tr>\n",
              "    <tr>\n",
              "      <th>198</th>\n",
              "      <td>199</td>\n",
              "      <td>NaN</td>\n",
              "      <td>NaN</td>\n",
              "      <td>NaN</td>\n",
              "      <td>NaN</td>\n",
              "    </tr>\n",
              "    <tr>\n",
              "      <th>199</th>\n",
              "      <td>200</td>\n",
              "      <td>NaN</td>\n",
              "      <td>NaN</td>\n",
              "      <td>NaN</td>\n",
              "      <td>NaN</td>\n",
              "    </tr>\n",
              "  </tbody>\n",
              "</table>\n",
              "<p>200 rows × 5 columns</p>\n",
              "</div>\n",
              "      <button class=\"colab-df-convert\" onclick=\"convertToInteractive('df-6982d063-03ee-4335-9826-974ddf6dc0cf')\"\n",
              "              title=\"Convert this dataframe to an interactive table.\"\n",
              "              style=\"display:none;\">\n",
              "        \n",
              "  <svg xmlns=\"http://www.w3.org/2000/svg\" height=\"24px\"viewBox=\"0 0 24 24\"\n",
              "       width=\"24px\">\n",
              "    <path d=\"M0 0h24v24H0V0z\" fill=\"none\"/>\n",
              "    <path d=\"M18.56 5.44l.94 2.06.94-2.06 2.06-.94-2.06-.94-.94-2.06-.94 2.06-2.06.94zm-11 1L8.5 8.5l.94-2.06 2.06-.94-2.06-.94L8.5 2.5l-.94 2.06-2.06.94zm10 10l.94 2.06.94-2.06 2.06-.94-2.06-.94-.94-2.06-.94 2.06-2.06.94z\"/><path d=\"M17.41 7.96l-1.37-1.37c-.4-.4-.92-.59-1.43-.59-.52 0-1.04.2-1.43.59L10.3 9.45l-7.72 7.72c-.78.78-.78 2.05 0 2.83L4 21.41c.39.39.9.59 1.41.59.51 0 1.02-.2 1.41-.59l7.78-7.78 2.81-2.81c.8-.78.8-2.07 0-2.86zM5.41 20L4 18.59l7.72-7.72 1.47 1.35L5.41 20z\"/>\n",
              "  </svg>\n",
              "      </button>\n",
              "      \n",
              "  <style>\n",
              "    .colab-df-container {\n",
              "      display:flex;\n",
              "      flex-wrap:wrap;\n",
              "      gap: 12px;\n",
              "    }\n",
              "\n",
              "    .colab-df-convert {\n",
              "      background-color: #E8F0FE;\n",
              "      border: none;\n",
              "      border-radius: 50%;\n",
              "      cursor: pointer;\n",
              "      display: none;\n",
              "      fill: #1967D2;\n",
              "      height: 32px;\n",
              "      padding: 0 0 0 0;\n",
              "      width: 32px;\n",
              "    }\n",
              "\n",
              "    .colab-df-convert:hover {\n",
              "      background-color: #E2EBFA;\n",
              "      box-shadow: 0px 1px 2px rgba(60, 64, 67, 0.3), 0px 1px 3px 1px rgba(60, 64, 67, 0.15);\n",
              "      fill: #174EA6;\n",
              "    }\n",
              "\n",
              "    [theme=dark] .colab-df-convert {\n",
              "      background-color: #3B4455;\n",
              "      fill: #D2E3FC;\n",
              "    }\n",
              "\n",
              "    [theme=dark] .colab-df-convert:hover {\n",
              "      background-color: #434B5C;\n",
              "      box-shadow: 0px 1px 3px 1px rgba(0, 0, 0, 0.15);\n",
              "      filter: drop-shadow(0px 1px 2px rgba(0, 0, 0, 0.3));\n",
              "      fill: #FFFFFF;\n",
              "    }\n",
              "  </style>\n",
              "\n",
              "      <script>\n",
              "        const buttonEl =\n",
              "          document.querySelector('#df-6982d063-03ee-4335-9826-974ddf6dc0cf button.colab-df-convert');\n",
              "        buttonEl.style.display =\n",
              "          google.colab.kernel.accessAllowed ? 'block' : 'none';\n",
              "\n",
              "        async function convertToInteractive(key) {\n",
              "          const element = document.querySelector('#df-6982d063-03ee-4335-9826-974ddf6dc0cf');\n",
              "          const dataTable =\n",
              "            await google.colab.kernel.invokeFunction('convertToInteractive',\n",
              "                                                     [key], {});\n",
              "          if (!dataTable) return;\n",
              "\n",
              "          const docLinkHtml = 'Like what you see? Visit the ' +\n",
              "            '<a target=\"_blank\" href=https://colab.research.google.com/notebooks/data_table.ipynb>data table notebook</a>'\n",
              "            + ' to learn more about interactive tables.';\n",
              "          element.innerHTML = '';\n",
              "          dataTable['output_type'] = 'display_data';\n",
              "          await google.colab.output.renderOutput(dataTable, element);\n",
              "          const docLink = document.createElement('div');\n",
              "          docLink.innerHTML = docLinkHtml;\n",
              "          element.appendChild(docLink);\n",
              "        }\n",
              "      </script>\n",
              "    </div>\n",
              "  </div>\n",
              "  "
            ]
          },
          "metadata": {},
          "execution_count": 19
        }
      ]
    },
    {
      "cell_type": "code",
      "source": [
        "data.var()"
      ],
      "metadata": {
        "colab": {
          "base_uri": "https://localhost:8080/"
        },
        "id": "4CwHHASPQaay",
        "outputId": "3112812c-30f9-4a38-a8d9-28a24063a24c"
      },
      "execution_count": 20,
      "outputs": [
        {
          "output_type": "stream",
          "name": "stderr",
          "text": [
            "/usr/local/lib/python3.7/dist-packages/ipykernel_launcher.py:1: FutureWarning: Dropping of nuisance columns in DataFrame reductions (with 'numeric_only=None') is deprecated; in a future version this will raise TypeError.  Select only valid columns before calling the reduction.\n",
            "  \"\"\"Entry point for launching an IPython kernel.\n"
          ]
        },
        {
          "output_type": "execute_result",
          "data": {
            "text/plain": [
              "CustomerID                3350.000000\n",
              "Age                        195.133166\n",
              "Annual Income (k$)         689.835578\n",
              "Spending Score (1-100)     666.854271\n",
              "dtype: float64"
            ]
          },
          "metadata": {},
          "execution_count": 20
        }
      ]
    },
    {
      "cell_type": "code",
      "source": [
        "data.std()"
      ],
      "metadata": {
        "colab": {
          "base_uri": "https://localhost:8080/"
        },
        "id": "aqGLPhnzQeeO",
        "outputId": "9ddc5bf7-00cf-4e12-e190-3293a61f0670"
      },
      "execution_count": 21,
      "outputs": [
        {
          "output_type": "stream",
          "name": "stderr",
          "text": [
            "/usr/local/lib/python3.7/dist-packages/ipykernel_launcher.py:1: FutureWarning: Dropping of nuisance columns in DataFrame reductions (with 'numeric_only=None') is deprecated; in a future version this will raise TypeError.  Select only valid columns before calling the reduction.\n",
            "  \"\"\"Entry point for launching an IPython kernel.\n"
          ]
        },
        {
          "output_type": "execute_result",
          "data": {
            "text/plain": [
              "CustomerID                57.879185\n",
              "Age                       13.969007\n",
              "Annual Income (k$)        26.264721\n",
              "Spending Score (1-100)    25.823522\n",
              "dtype: float64"
            ]
          },
          "metadata": {},
          "execution_count": 21
        }
      ]
    },
    {
      "cell_type": "code",
      "source": [
        "data.describe()"
      ],
      "metadata": {
        "colab": {
          "base_uri": "https://localhost:8080/",
          "height": 300
        },
        "id": "HUoD9nBRQjqW",
        "outputId": "d89441fa-93c9-4f27-aee1-f17988d0b3ea"
      },
      "execution_count": 22,
      "outputs": [
        {
          "output_type": "execute_result",
          "data": {
            "text/plain": [
              "       CustomerID         Age  Annual Income (k$)  Spending Score (1-100)\n",
              "count  200.000000  200.000000          200.000000              200.000000\n",
              "mean   100.500000   38.850000           60.560000               50.200000\n",
              "std     57.879185   13.969007           26.264721               25.823522\n",
              "min      1.000000   18.000000           15.000000                1.000000\n",
              "25%     50.750000   28.750000           41.500000               34.750000\n",
              "50%    100.500000   36.000000           61.500000               50.000000\n",
              "75%    150.250000   49.000000           78.000000               73.000000\n",
              "max    200.000000   70.000000          137.000000               99.000000"
            ],
            "text/html": [
              "\n",
              "  <div id=\"df-821b2af4-c21d-42f3-8a53-b14c716233ce\">\n",
              "    <div class=\"colab-df-container\">\n",
              "      <div>\n",
              "<style scoped>\n",
              "    .dataframe tbody tr th:only-of-type {\n",
              "        vertical-align: middle;\n",
              "    }\n",
              "\n",
              "    .dataframe tbody tr th {\n",
              "        vertical-align: top;\n",
              "    }\n",
              "\n",
              "    .dataframe thead th {\n",
              "        text-align: right;\n",
              "    }\n",
              "</style>\n",
              "<table border=\"1\" class=\"dataframe\">\n",
              "  <thead>\n",
              "    <tr style=\"text-align: right;\">\n",
              "      <th></th>\n",
              "      <th>CustomerID</th>\n",
              "      <th>Age</th>\n",
              "      <th>Annual Income (k$)</th>\n",
              "      <th>Spending Score (1-100)</th>\n",
              "    </tr>\n",
              "  </thead>\n",
              "  <tbody>\n",
              "    <tr>\n",
              "      <th>count</th>\n",
              "      <td>200.000000</td>\n",
              "      <td>200.000000</td>\n",
              "      <td>200.000000</td>\n",
              "      <td>200.000000</td>\n",
              "    </tr>\n",
              "    <tr>\n",
              "      <th>mean</th>\n",
              "      <td>100.500000</td>\n",
              "      <td>38.850000</td>\n",
              "      <td>60.560000</td>\n",
              "      <td>50.200000</td>\n",
              "    </tr>\n",
              "    <tr>\n",
              "      <th>std</th>\n",
              "      <td>57.879185</td>\n",
              "      <td>13.969007</td>\n",
              "      <td>26.264721</td>\n",
              "      <td>25.823522</td>\n",
              "    </tr>\n",
              "    <tr>\n",
              "      <th>min</th>\n",
              "      <td>1.000000</td>\n",
              "      <td>18.000000</td>\n",
              "      <td>15.000000</td>\n",
              "      <td>1.000000</td>\n",
              "    </tr>\n",
              "    <tr>\n",
              "      <th>25%</th>\n",
              "      <td>50.750000</td>\n",
              "      <td>28.750000</td>\n",
              "      <td>41.500000</td>\n",
              "      <td>34.750000</td>\n",
              "    </tr>\n",
              "    <tr>\n",
              "      <th>50%</th>\n",
              "      <td>100.500000</td>\n",
              "      <td>36.000000</td>\n",
              "      <td>61.500000</td>\n",
              "      <td>50.000000</td>\n",
              "    </tr>\n",
              "    <tr>\n",
              "      <th>75%</th>\n",
              "      <td>150.250000</td>\n",
              "      <td>49.000000</td>\n",
              "      <td>78.000000</td>\n",
              "      <td>73.000000</td>\n",
              "    </tr>\n",
              "    <tr>\n",
              "      <th>max</th>\n",
              "      <td>200.000000</td>\n",
              "      <td>70.000000</td>\n",
              "      <td>137.000000</td>\n",
              "      <td>99.000000</td>\n",
              "    </tr>\n",
              "  </tbody>\n",
              "</table>\n",
              "</div>\n",
              "      <button class=\"colab-df-convert\" onclick=\"convertToInteractive('df-821b2af4-c21d-42f3-8a53-b14c716233ce')\"\n",
              "              title=\"Convert this dataframe to an interactive table.\"\n",
              "              style=\"display:none;\">\n",
              "        \n",
              "  <svg xmlns=\"http://www.w3.org/2000/svg\" height=\"24px\"viewBox=\"0 0 24 24\"\n",
              "       width=\"24px\">\n",
              "    <path d=\"M0 0h24v24H0V0z\" fill=\"none\"/>\n",
              "    <path d=\"M18.56 5.44l.94 2.06.94-2.06 2.06-.94-2.06-.94-.94-2.06-.94 2.06-2.06.94zm-11 1L8.5 8.5l.94-2.06 2.06-.94-2.06-.94L8.5 2.5l-.94 2.06-2.06.94zm10 10l.94 2.06.94-2.06 2.06-.94-2.06-.94-.94-2.06-.94 2.06-2.06.94z\"/><path d=\"M17.41 7.96l-1.37-1.37c-.4-.4-.92-.59-1.43-.59-.52 0-1.04.2-1.43.59L10.3 9.45l-7.72 7.72c-.78.78-.78 2.05 0 2.83L4 21.41c.39.39.9.59 1.41.59.51 0 1.02-.2 1.41-.59l7.78-7.78 2.81-2.81c.8-.78.8-2.07 0-2.86zM5.41 20L4 18.59l7.72-7.72 1.47 1.35L5.41 20z\"/>\n",
              "  </svg>\n",
              "      </button>\n",
              "      \n",
              "  <style>\n",
              "    .colab-df-container {\n",
              "      display:flex;\n",
              "      flex-wrap:wrap;\n",
              "      gap: 12px;\n",
              "    }\n",
              "\n",
              "    .colab-df-convert {\n",
              "      background-color: #E8F0FE;\n",
              "      border: none;\n",
              "      border-radius: 50%;\n",
              "      cursor: pointer;\n",
              "      display: none;\n",
              "      fill: #1967D2;\n",
              "      height: 32px;\n",
              "      padding: 0 0 0 0;\n",
              "      width: 32px;\n",
              "    }\n",
              "\n",
              "    .colab-df-convert:hover {\n",
              "      background-color: #E2EBFA;\n",
              "      box-shadow: 0px 1px 2px rgba(60, 64, 67, 0.3), 0px 1px 3px 1px rgba(60, 64, 67, 0.15);\n",
              "      fill: #174EA6;\n",
              "    }\n",
              "\n",
              "    [theme=dark] .colab-df-convert {\n",
              "      background-color: #3B4455;\n",
              "      fill: #D2E3FC;\n",
              "    }\n",
              "\n",
              "    [theme=dark] .colab-df-convert:hover {\n",
              "      background-color: #434B5C;\n",
              "      box-shadow: 0px 1px 3px 1px rgba(0, 0, 0, 0.15);\n",
              "      filter: drop-shadow(0px 1px 2px rgba(0, 0, 0, 0.3));\n",
              "      fill: #FFFFFF;\n",
              "    }\n",
              "  </style>\n",
              "\n",
              "      <script>\n",
              "        const buttonEl =\n",
              "          document.querySelector('#df-821b2af4-c21d-42f3-8a53-b14c716233ce button.colab-df-convert');\n",
              "        buttonEl.style.display =\n",
              "          google.colab.kernel.accessAllowed ? 'block' : 'none';\n",
              "\n",
              "        async function convertToInteractive(key) {\n",
              "          const element = document.querySelector('#df-821b2af4-c21d-42f3-8a53-b14c716233ce');\n",
              "          const dataTable =\n",
              "            await google.colab.kernel.invokeFunction('convertToInteractive',\n",
              "                                                     [key], {});\n",
              "          if (!dataTable) return;\n",
              "\n",
              "          const docLinkHtml = 'Like what you see? Visit the ' +\n",
              "            '<a target=\"_blank\" href=https://colab.research.google.com/notebooks/data_table.ipynb>data table notebook</a>'\n",
              "            + ' to learn more about interactive tables.';\n",
              "          element.innerHTML = '';\n",
              "          dataTable['output_type'] = 'display_data';\n",
              "          await google.colab.output.renderOutput(dataTable, element);\n",
              "          const docLink = document.createElement('div');\n",
              "          docLink.innerHTML = docLinkHtml;\n",
              "          element.appendChild(docLink);\n",
              "        }\n",
              "      </script>\n",
              "    </div>\n",
              "  </div>\n",
              "  "
            ]
          },
          "metadata": {},
          "execution_count": 22
        }
      ]
    },
    {
      "cell_type": "code",
      "source": [
        "data['Age'].unique()"
      ],
      "metadata": {
        "colab": {
          "base_uri": "https://localhost:8080/"
        },
        "id": "8l-oWCkgQptG",
        "outputId": "8cd16fea-6e38-40e8-9ec8-5025f8a7d7d6"
      },
      "execution_count": 23,
      "outputs": [
        {
          "output_type": "execute_result",
          "data": {
            "text/plain": [
              "array([19, 21, 20, 23, 31, 22, 35, 64, 30, 67, 58, 24, 37, 52, 25, 46, 54,\n",
              "       29, 45, 40, 60, 53, 18, 49, 42, 36, 65, 48, 50, 27, 33, 59, 47, 51,\n",
              "       69, 70, 63, 43, 68, 32, 26, 57, 38, 55, 34, 66, 39, 44, 28, 56, 41])"
            ]
          },
          "metadata": {},
          "execution_count": 23
        }
      ]
    },
    {
      "cell_type": "code",
      "source": [
        "data['Gender'].unique()"
      ],
      "metadata": {
        "colab": {
          "base_uri": "https://localhost:8080/"
        },
        "id": "pkWU3HxQQuTk",
        "outputId": "91d287fa-a3ab-48ff-df27-909106668415"
      },
      "execution_count": 24,
      "outputs": [
        {
          "output_type": "execute_result",
          "data": {
            "text/plain": [
              "array(['Male', 'Female'], dtype=object)"
            ]
          },
          "metadata": {},
          "execution_count": 24
        }
      ]
    },
    {
      "cell_type": "code",
      "source": [
        "data['Age'].value_counts()"
      ],
      "metadata": {
        "colab": {
          "base_uri": "https://localhost:8080/"
        },
        "id": "u6hBLrhHQyRr",
        "outputId": "c7a760b5-3747-488a-fcdc-07fc6a4f00f4"
      },
      "execution_count": 25,
      "outputs": [
        {
          "output_type": "execute_result",
          "data": {
            "text/plain": [
              "32    11\n",
              "35     9\n",
              "19     8\n",
              "31     8\n",
              "30     7\n",
              "49     7\n",
              "40     6\n",
              "38     6\n",
              "47     6\n",
              "27     6\n",
              "36     6\n",
              "23     6\n",
              "34     5\n",
              "20     5\n",
              "29     5\n",
              "50     5\n",
              "48     5\n",
              "21     5\n",
              "24     4\n",
              "18     4\n",
              "28     4\n",
              "67     4\n",
              "59     4\n",
              "54     4\n",
              "43     3\n",
              "60     3\n",
              "45     3\n",
              "39     3\n",
              "33     3\n",
              "37     3\n",
              "22     3\n",
              "25     3\n",
              "46     3\n",
              "68     3\n",
              "52     2\n",
              "44     2\n",
              "66     2\n",
              "57     2\n",
              "26     2\n",
              "53     2\n",
              "42     2\n",
              "63     2\n",
              "70     2\n",
              "51     2\n",
              "58     2\n",
              "65     2\n",
              "41     2\n",
              "55     1\n",
              "69     1\n",
              "64     1\n",
              "56     1\n",
              "Name: Age, dtype: int64"
            ]
          },
          "metadata": {},
          "execution_count": 25
        }
      ]
    },
    {
      "cell_type": "markdown",
      "source": [
        "5. Check for Missing values and deal with them."
      ],
      "metadata": {
        "id": "WfJcjY6-RQym"
      }
    },
    {
      "cell_type": "code",
      "source": [
        "#Handling the missing values\n",
        "data.isnull().any()"
      ],
      "metadata": {
        "colab": {
          "base_uri": "https://localhost:8080/"
        },
        "id": "SKXWbW9bRSJr",
        "outputId": "be093b90-afc6-4421-f9ce-b63d643cf251"
      },
      "execution_count": 26,
      "outputs": [
        {
          "output_type": "execute_result",
          "data": {
            "text/plain": [
              "CustomerID                False\n",
              "Gender                    False\n",
              "Age                       False\n",
              "Annual Income (k$)        False\n",
              "Spending Score (1-100)    False\n",
              "dtype: bool"
            ]
          },
          "metadata": {},
          "execution_count": 26
        }
      ]
    },
    {
      "cell_type": "code",
      "source": [
        "data.isnull().sum()"
      ],
      "metadata": {
        "colab": {
          "base_uri": "https://localhost:8080/"
        },
        "id": "5GGOZBETRbwM",
        "outputId": "820b8f91-6d74-4c67-a44d-255a5c34945a"
      },
      "execution_count": 27,
      "outputs": [
        {
          "output_type": "execute_result",
          "data": {
            "text/plain": [
              "CustomerID                0\n",
              "Gender                    0\n",
              "Age                       0\n",
              "Annual Income (k$)        0\n",
              "Spending Score (1-100)    0\n",
              "dtype: int64"
            ]
          },
          "metadata": {},
          "execution_count": 27
        }
      ]
    },
    {
      "cell_type": "markdown",
      "source": [
        "6. Find the outliers and replace them outliers"
      ],
      "metadata": {
        "id": "1FGPqlqORkLG"
      }
    },
    {
      "cell_type": "code",
      "source": [
        "sns.boxplot(data['Age'])"
      ],
      "metadata": {
        "colab": {
          "base_uri": "https://localhost:8080/",
          "height": 351
        },
        "id": "ZUQonLNsRljj",
        "outputId": "e2c62654-09e6-496a-f7d0-259a5d00ff6c"
      },
      "execution_count": 28,
      "outputs": [
        {
          "output_type": "stream",
          "name": "stderr",
          "text": [
            "/usr/local/lib/python3.7/dist-packages/seaborn/_decorators.py:43: FutureWarning: Pass the following variable as a keyword arg: x. From version 0.12, the only valid positional argument will be `data`, and passing other arguments without an explicit keyword will result in an error or misinterpretation.\n",
            "  FutureWarning\n"
          ]
        },
        {
          "output_type": "execute_result",
          "data": {
            "text/plain": [
              "<matplotlib.axes._subplots.AxesSubplot at 0x7f46e849f190>"
            ]
          },
          "metadata": {},
          "execution_count": 28
        },
        {
          "output_type": "display_data",
          "data": {
            "text/plain": [
              "<Figure size 432x288 with 1 Axes>"
            ],
            "image/png": "[encoded data removed]"
          },
          "metadata": {
            "needs_background": "light"
          }
        }
      ]
    },
    {
      "cell_type": "code",
      "source": [
        "q = data.quantile([0.75,0.25])"
      ],
      "metadata": {
        "id": "j8L4o6uQRsi_"
      },
      "execution_count": 29,
      "outputs": []
    },
    {
      "cell_type": "code",
      "source": [
        "q"
      ],
      "metadata": {
        "colab": {
          "base_uri": "https://localhost:8080/",
          "height": 112
        },
        "id": "3a83KpwJRw0Z",
        "outputId": "e16ae9bf-d96e-4dbb-e1f4-f7c5f352c21f"
      },
      "execution_count": 30,
      "outputs": [
        {
          "output_type": "execute_result",
          "data": {
            "text/plain": [
              "      CustomerID    Age  Annual Income (k$)  Spending Score (1-100)\n",
              "0.75      150.25  49.00                78.0                   73.00\n",
              "0.25       50.75  28.75                41.5                   34.75"
            ],
            "text/html": [
              "\n",
              "  <div id=\"df-4408df21-dd93-4457-8cd4-5b6e9a666a8a\">\n",
              "    <div class=\"colab-df-container\">\n",
              "      <div>\n",
              "<style scoped>\n",
              "    .dataframe tbody tr th:only-of-type {\n",
              "        vertical-align: middle;\n",
              "    }\n",
              "\n",
              "    .dataframe tbody tr th {\n",
              "        vertical-align: top;\n",
              "    }\n",
              "\n",
              "    .dataframe thead th {\n",
              "        text-align: right;\n",
              "    }\n",
              "</style>\n",
              "<table border=\"1\" class=\"dataframe\">\n",
              "  <thead>\n",
              "    <tr style=\"text-align: right;\">\n",
              "      <th></th>\n",
              "      <th>CustomerID</th>\n",
              "      <th>Age</th>\n",
              "      <th>Annual Income (k$)</th>\n",
              "      <th>Spending Score (1-100)</th>\n",
              "    </tr>\n",
              "  </thead>\n",
              "  <tbody>\n",
              "    <tr>\n",
              "      <th>0.75</th>\n",
              "      <td>150.25</td>\n",
              "      <td>49.00</td>\n",
              "      <td>78.0</td>\n",
              "      <td>73.00</td>\n",
              "    </tr>\n",
              "    <tr>\n",
              "      <th>0.25</th>\n",
              "      <td>50.75</td>\n",
              "      <td>28.75</td>\n",
              "      <td>41.5</td>\n",
              "      <td>34.75</td>\n",
              "    </tr>\n",
              "  </tbody>\n",
              "</table>\n",
              "</div>\n",
              "      <button class=\"colab-df-convert\" onclick=\"convertToInteractive('df-4408df21-dd93-4457-8cd4-5b6e9a666a8a')\"\n",
              "              title=\"Convert this dataframe to an interactive table.\"\n",
              "              style=\"display:none;\">\n",
              "        \n",
              "  <svg xmlns=\"http://www.w3.org/2000/svg\" height=\"24px\"viewBox=\"0 0 24 24\"\n",
              "       width=\"24px\">\n",
              "    <path d=\"M0 0h24v24H0V0z\" fill=\"none\"/>\n",
              "    <path d=\"M18.56 5.44l.94 2.06.94-2.06 2.06-.94-2.06-.94-.94-2.06-.94 2.06-2.06.94zm-11 1L8.5 8.5l.94-2.06 2.06-.94-2.06-.94L8.5 2.5l-.94 2.06-2.06.94zm10 10l.94 2.06.94-2.06 2.06-.94-2.06-.94-.94-2.06-.94 2.06-2.06.94z\"/><path d=\"M17.41 7.96l-1.37-1.37c-.4-.4-.92-.59-1.43-.59-.52 0-1.04.2-1.43.59L10.3 9.45l-7.72 7.72c-.78.78-.78 2.05 0 2.83L4 21.41c.39.39.9.59 1.41.59.51 0 1.02-.2 1.41-.59l7.78-7.78 2.81-2.81c.8-.78.8-2.07 0-2.86zM5.41 20L4 18.59l7.72-7.72 1.47 1.35L5.41 20z\"/>\n",
              "  </svg>\n",
              "      </button>\n",
              "      \n",
              "  <style>\n",
              "    .colab-df-container {\n",
              "      display:flex;\n",
              "      flex-wrap:wrap;\n",
              "      gap: 12px;\n",
              "    }\n",
              "\n",
              "    .colab-df-convert {\n",
              "      background-color: #E8F0FE;\n",
              "      border: none;\n",
              "      border-radius: 50%;\n",
              "      cursor: pointer;\n",
              "      display: none;\n",
              "      fill: #1967D2;\n",
              "      height: 32px;\n",
              "      padding: 0 0 0 0;\n",
              "      width: 32px;\n",
              "    }\n",
              "\n",
              "    .colab-df-convert:hover {\n",
              "      background-color: #E2EBFA;\n",
              "      box-shadow: 0px 1px 2px rgba(60, 64, 67, 0.3), 0px 1px 3px 1px rgba(60, 64, 67, 0.15);\n",
              "      fill: #174EA6;\n",
              "    }\n",
              "\n",
              "    [theme=dark] .colab-df-convert {\n",
              "      background-color: #3B4455;\n",
              "      fill: #D2E3FC;\n",
              "    }\n",
              "\n",
              "    [theme=dark] .colab-df-convert:hover {\n",
              "      background-color: #434B5C;\n",
              "      box-shadow: 0px 1px 3px 1px rgba(0, 0, 0, 0.15);\n",
              "      filter: drop-shadow(0px 1px 2px rgba(0, 0, 0, 0.3));\n",
              "      fill: #FFFFFF;\n",
              "    }\n",
              "  </style>\n",
              "\n",
              "      <script>\n",
              "        const buttonEl =\n",
              "          document.querySelector('#df-4408df21-dd93-4457-8cd4-5b6e9a666a8a button.colab-df-convert');\n",
              "        buttonEl.style.display =\n",
              "          google.colab.kernel.accessAllowed ? 'block' : 'none';\n",
              "\n",
              "        async function convertToInteractive(key) {\n",
              "          const element = document.querySelector('#df-4408df21-dd93-4457-8cd4-5b6e9a666a8a');\n",
              "          const dataTable =\n",
              "            await google.colab.kernel.invokeFunction('convertToInteractive',\n",
              "                                                     [key], {});\n",
              "          if (!dataTable) return;\n",
              "\n",
              "          const docLinkHtml = 'Like what you see? Visit the ' +\n",
              "            '<a target=\"_blank\" href=https://colab.research.google.com/notebooks/data_table.ipynb>data table notebook</a>'\n",
              "            + ' to learn more about interactive tables.';\n",
              "          element.innerHTML = '';\n",
              "          dataTable['output_type'] = 'display_data';\n",
              "          await google.colab.output.renderOutput(dataTable, element);\n",
              "          const docLink = document.createElement('div');\n",
              "          docLink.innerHTML = docLinkHtml;\n",
              "          element.appendChild(docLink);\n",
              "        }\n",
              "      </script>\n",
              "    </div>\n",
              "  </div>\n",
              "  "
            ]
          },
          "metadata": {},
          "execution_count": 30
        }
      ]
    },
    {
      "cell_type": "code",
      "source": [
        "iqr = q.iloc[0] - q.iloc[1]"
      ],
      "metadata": {
        "id": "0Kf1-c44R1IJ"
      },
      "execution_count": 31,
      "outputs": []
    },
    {
      "cell_type": "code",
      "source": [
        "iqr"
      ],
      "metadata": {
        "colab": {
          "base_uri": "https://localhost:8080/"
        },
        "id": "56Yui7FWR2oc",
        "outputId": "af8f1bf8-f6a2-47a7-dd0c-ae4d8ba3f103"
      },
      "execution_count": 32,
      "outputs": [
        {
          "output_type": "execute_result",
          "data": {
            "text/plain": [
              "CustomerID                99.50\n",
              "Age                       20.25\n",
              "Annual Income (k$)        36.50\n",
              "Spending Score (1-100)    38.25\n",
              "dtype: float64"
            ]
          },
          "metadata": {},
          "execution_count": 32
        }
      ]
    },
    {
      "cell_type": "code",
      "source": [
        "u = q.iloc[0] + (1.5*iqr)"
      ],
      "metadata": {
        "id": "cDz0OQgMR9Cr"
      },
      "execution_count": 33,
      "outputs": []
    },
    {
      "cell_type": "code",
      "source": [
        "u"
      ],
      "metadata": {
        "colab": {
          "base_uri": "https://localhost:8080/"
        },
        "id": "EyTtp6RQR_jU",
        "outputId": "1c6de04e-5000-461b-97c4-e4a52fe2f20c"
      },
      "execution_count": 34,
      "outputs": [
        {
          "output_type": "execute_result",
          "data": {
            "text/plain": [
              "CustomerID                299.500\n",
              "Age                        79.375\n",
              "Annual Income (k$)        132.750\n",
              "Spending Score (1-100)    130.375\n",
              "dtype: float64"
            ]
          },
          "metadata": {},
          "execution_count": 34
        }
      ]
    },
    {
      "cell_type": "code",
      "source": [
        "l = q.iloc[1] - (1.5*iqr)"
      ],
      "metadata": {
        "id": "X6Mt6GI8SDh1"
      },
      "execution_count": 35,
      "outputs": []
    },
    {
      "cell_type": "code",
      "source": [
        "l"
      ],
      "metadata": {
        "colab": {
          "base_uri": "https://localhost:8080/"
        },
        "id": "9X7ruH6DSGQm",
        "outputId": "cf435bba-df5e-468f-abf3-6f91477c8ded"
      },
      "execution_count": 36,
      "outputs": [
        {
          "output_type": "execute_result",
          "data": {
            "text/plain": [
              "CustomerID               -98.500\n",
              "Age                       -1.625\n",
              "Annual Income (k$)       -13.250\n",
              "Spending Score (1-100)   -22.625\n",
              "dtype: float64"
            ]
          },
          "metadata": {},
          "execution_count": 36
        }
      ]
    },
    {
      "cell_type": "code",
      "source": [
        "## Handling outliers\n",
        "import numpy as np\n",
        "data['Age'] = np.where(data['Age']>45,11, data['Age'])"
      ],
      "metadata": {
        "id": "hjwsSN2vSLXe"
      },
      "execution_count": 37,
      "outputs": []
    },
    {
      "cell_type": "code",
      "source": [
        "sns.boxplot(data['Age'])"
      ],
      "metadata": {
        "colab": {
          "base_uri": "https://localhost:8080/",
          "height": 351
        },
        "id": "7YHF6XeySQTj",
        "outputId": "cc5c8283-e4c2-487c-9a00-c3505a0d37e4"
      },
      "execution_count": 38,
      "outputs": [
        {
          "output_type": "stream",
          "name": "stderr",
          "text": [
            "/usr/local/lib/python3.7/dist-packages/seaborn/_decorators.py:43: FutureWarning: Pass the following variable as a keyword arg: x. From version 0.12, the only valid positional argument will be `data`, and passing other arguments without an explicit keyword will result in an error or misinterpretation.\n",
            "  FutureWarning\n"
          ]
        },
        {
          "output_type": "execute_result",
          "data": {
            "text/plain": [
              "<matplotlib.axes._subplots.AxesSubplot at 0x7f46e8417450>"
            ]
          },
          "metadata": {},
          "execution_count": 38
        },
        {
          "output_type": "display_data",
          "data": {
            "text/plain": [
              "<Figure size 432x288 with 1 Axes>"
            ],
            "image/png": "[encoded data removed]"
          },
          "metadata": {
            "needs_background": "light"
          }
        }
      ]
    },
    {
      "cell_type": "markdown",
      "source": [
        "7. Check for Categorical columns and perform encoding."
      ],
      "metadata": {
        "id": "b3s1Dk25SVmV"
      }
    },
    {
      "cell_type": "code",
      "source": [
        "# converting categorical values in to numerical values  - Encoding\n",
        "\n",
        "from sklearn.preprocessing import LabelEncoder, OneHotEncoder\n",
        "\n",
        "le = LabelEncoder()\n",
        "oneh = OneHotEncoder()\n",
        "\n",
        "data['Gender'] = le.fit_transform(data['Gender'])"
      ],
      "metadata": {
        "id": "ZbXgG_Q5SWtX"
      },
      "execution_count": 39,
      "outputs": []
    },
    {
      "cell_type": "code",
      "source": [
        "data.head()"
      ],
      "metadata": {
        "colab": {
          "base_uri": "https://localhost:8080/",
          "height": 206
        },
        "id": "MNykf9QSSxCO",
        "outputId": "2ef4e699-2670-4678-ba84-8a55662c3f2b"
      },
      "execution_count": 40,
      "outputs": [
        {
          "output_type": "execute_result",
          "data": {
            "text/plain": [
              "   CustomerID  Gender  Age  Annual Income (k$)  Spending Score (1-100)\n",
              "0           1       1   19                  15                      39\n",
              "1           2       1   21                  15                      81\n",
              "2           3       0   20                  16                       6\n",
              "3           4       0   23                  16                      77\n",
              "4           5       0   31                  17                      40"
            ],
            "text/html": [
              "\n",
              "  <div id=\"df-84776143-64a0-4fd5-9a64-46cf2642a64c\">\n",
              "    <div class=\"colab-df-container\">\n",
              "      <div>\n",
              "<style scoped>\n",
              "    .dataframe tbody tr th:only-of-type {\n",
              "        vertical-align: middle;\n",
              "    }\n",
              "\n",
              "    .dataframe tbody tr th {\n",
              "        vertical-align: top;\n",
              "    }\n",
              "\n",
              "    .dataframe thead th {\n",
              "        text-align: right;\n",
              "    }\n",
              "</style>\n",
              "<table border=\"1\" class=\"dataframe\">\n",
              "  <thead>\n",
              "    <tr style=\"text-align: right;\">\n",
              "      <th></th>\n",
              "      <th>CustomerID</th>\n",
              "      <th>Gender</th>\n",
              "      <th>Age</th>\n",
              "      <th>Annual Income (k$)</th>\n",
              "      <th>Spending Score (1-100)</th>\n",
              "    </tr>\n",
              "  </thead>\n",
              "  <tbody>\n",
              "    <tr>\n",
              "      <th>0</th>\n",
              "      <td>1</td>\n",
              "      <td>1</td>\n",
              "      <td>19</td>\n",
              "      <td>15</td>\n",
              "      <td>39</td>\n",
              "    </tr>\n",
              "    <tr>\n",
              "      <th>1</th>\n",
              "      <td>2</td>\n",
              "      <td>1</td>\n",
              "      <td>21</td>\n",
              "      <td>15</td>\n",
              "      <td>81</td>\n",
              "    </tr>\n",
              "    <tr>\n",
              "      <th>2</th>\n",
              "      <td>3</td>\n",
              "      <td>0</td>\n",
              "      <td>20</td>\n",
              "      <td>16</td>\n",
              "      <td>6</td>\n",
              "    </tr>\n",
              "    <tr>\n",
              "      <th>3</th>\n",
              "      <td>4</td>\n",
              "      <td>0</td>\n",
              "      <td>23</td>\n",
              "      <td>16</td>\n",
              "      <td>77</td>\n",
              "    </tr>\n",
              "    <tr>\n",
              "      <th>4</th>\n",
              "      <td>5</td>\n",
              "      <td>0</td>\n",
              "      <td>31</td>\n",
              "      <td>17</td>\n",
              "      <td>40</td>\n",
              "    </tr>\n",
              "  </tbody>\n",
              "</table>\n",
              "</div>\n",
              "      <button class=\"colab-df-convert\" onclick=\"convertToInteractive('df-84776143-64a0-4fd5-9a64-46cf2642a64c')\"\n",
              "              title=\"Convert this dataframe to an interactive table.\"\n",
              "              style=\"display:none;\">\n",
              "        \n",
              "  <svg xmlns=\"http://www.w3.org/2000/svg\" height=\"24px\"viewBox=\"0 0 24 24\"\n",
              "       width=\"24px\">\n",
              "    <path d=\"M0 0h24v24H0V0z\" fill=\"none\"/>\n",
              "    <path d=\"M18.56 5.44l.94 2.06.94-2.06 2.06-.94-2.06-.94-.94-2.06-.94 2.06-2.06.94zm-11 1L8.5 8.5l.94-2.06 2.06-.94-2.06-.94L8.5 2.5l-.94 2.06-2.06.94zm10 10l.94 2.06.94-2.06 2.06-.94-2.06-.94-.94-2.06-.94 2.06-2.06.94z\"/><path d=\"M17.41 7.96l-1.37-1.37c-.4-.4-.92-.59-1.43-.59-.52 0-1.04.2-1.43.59L10.3 9.45l-7.72 7.72c-.78.78-.78 2.05 0 2.83L4 21.41c.39.39.9.59 1.41.59.51 0 1.02-.2 1.41-.59l7.78-7.78 2.81-2.81c.8-.78.8-2.07 0-2.86zM5.41 20L4 18.59l7.72-7.72 1.47 1.35L5.41 20z\"/>\n",
              "  </svg>\n",
              "      </button>\n",
              "      \n",
              "  <style>\n",
              "    .colab-df-container {\n",
              "      display:flex;\n",
              "      flex-wrap:wrap;\n",
              "      gap: 12px;\n",
              "    }\n",
              "\n",
              "    .colab-df-convert {\n",
              "      background-color: #E8F0FE;\n",
              "      border: none;\n",
              "      border-radius: 50%;\n",
              "      cursor: pointer;\n",
              "      display: none;\n",
              "      fill: #1967D2;\n",
              "      height: 32px;\n",
              "      padding: 0 0 0 0;\n",
              "      width: 32px;\n",
              "    }\n",
              "\n",
              "    .colab-df-convert:hover {\n",
              "      background-color: #E2EBFA;\n",
              "      box-shadow: 0px 1px 2px rgba(60, 64, 67, 0.3), 0px 1px 3px 1px rgba(60, 64, 67, 0.15);\n",
              "      fill: #174EA6;\n",
              "    }\n",
              "\n",
              "    [theme=dark] .colab-df-convert {\n",
              "      background-color: #3B4455;\n",
              "      fill: #D2E3FC;\n",
              "    }\n",
              "\n",
              "    [theme=dark] .colab-df-convert:hover {\n",
              "      background-color: #434B5C;\n",
              "      box-shadow: 0px 1px 3px 1px rgba(0, 0, 0, 0.15);\n",
              "      filter: drop-shadow(0px 1px 2px rgba(0, 0, 0, 0.3));\n",
              "      fill: #FFFFFF;\n",
              "    }\n",
              "  </style>\n",
              "\n",
              "      <script>\n",
              "        const buttonEl =\n",
              "          document.querySelector('#df-84776143-64a0-4fd5-9a64-46cf2642a64c button.colab-df-convert');\n",
              "        buttonEl.style.display =\n",
              "          google.colab.kernel.accessAllowed ? 'block' : 'none';\n",
              "\n",
              "        async function convertToInteractive(key) {\n",
              "          const element = document.querySelector('#df-84776143-64a0-4fd5-9a64-46cf2642a64c');\n",
              "          const dataTable =\n",
              "            await google.colab.kernel.invokeFunction('convertToInteractive',\n",
              "                                                     [key], {});\n",
              "          if (!dataTable) return;\n",
              "\n",
              "          const docLinkHtml = 'Like what you see? Visit the ' +\n",
              "            '<a target=\"_blank\" href=https://colab.research.google.com/notebooks/data_table.ipynb>data table notebook</a>'\n",
              "            + ' to learn more about interactive tables.';\n",
              "          element.innerHTML = '';\n",
              "          dataTable['output_type'] = 'display_data';\n",
              "          await google.colab.output.renderOutput(dataTable, element);\n",
              "          const docLink = document.createElement('div');\n",
              "          docLink.innerHTML = docLinkHtml;\n",
              "          element.appendChild(docLink);\n",
              "        }\n",
              "      </script>\n",
              "    </div>\n",
              "  </div>\n",
              "  "
            ]
          },
          "metadata": {},
          "execution_count": 40
        }
      ]
    },
    {
      "cell_type": "markdown",
      "source": [
        "8. Scaling the data"
      ],
      "metadata": {
        "id": "Th-KNC41TaIO"
      }
    },
    {
      "cell_type": "code",
      "source": [
        "x = data.iloc[:, 0:6]\n",
        "print(x)"
      ],
      "metadata": {
        "colab": {
          "base_uri": "https://localhost:8080/"
        },
        "id": "eqQ8nSQdTc8x",
        "outputId": "19f6ae8d-5a24-4dec-fba8-f6b188df1c16"
      },
      "execution_count": 42,
      "outputs": [
        {
          "output_type": "stream",
          "name": "stdout",
          "text": [
            "     CustomerID  Gender  Age  Annual Income (k$)  Spending Score (1-100)\n",
            "0             1       1   19                  15                      39\n",
            "1             2       1   21                  15                      81\n",
            "2             3       0   20                  16                       6\n",
            "3             4       0   23                  16                      77\n",
            "4             5       0   31                  17                      40\n",
            "..          ...     ...  ...                 ...                     ...\n",
            "195         196       0   35                 120                      79\n",
            "196         197       0   45                 126                      28\n",
            "197         198       1   32                 126                      74\n",
            "198         199       1   32                 137                      18\n",
            "199         200       1   30                 137                      83\n",
            "\n",
            "[200 rows x 5 columns]\n"
          ]
        }
      ]
    },
    {
      "cell_type": "code",
      "source": [
        "y = data['Age']\n",
        "print(y)"
      ],
      "metadata": {
        "colab": {
          "base_uri": "https://localhost:8080/"
        },
        "id": "pms1T-64TfoH",
        "outputId": "75cd4c24-46a5-4f9c-c658-95f15c8f7dbf"
      },
      "execution_count": 43,
      "outputs": [
        {
          "output_type": "stream",
          "name": "stdout",
          "text": [
            "0      19\n",
            "1      21\n",
            "2      20\n",
            "3      23\n",
            "4      31\n",
            "       ..\n",
            "195    35\n",
            "196    45\n",
            "197    32\n",
            "198    32\n",
            "199    30\n",
            "Name: Age, Length: 200, dtype: int64\n"
          ]
        }
      ]
    },
    {
      "cell_type": "code",
      "source": [
        "from sklearn.preprocessing import StandardScaler, MinMaxScaler\n",
        "sc = StandardScaler()\n",
        "x_scaled = sc.fit_transform(x)"
      ],
      "metadata": {
        "id": "0QmdZB7FTrC0"
      },
      "execution_count": 44,
      "outputs": []
    },
    {
      "cell_type": "code",
      "source": [
        "x_scaled"
      ],
      "metadata": {
        "colab": {
          "base_uri": "https://localhost:8080/"
        },
        "id": "j1UE6uY0TuvS",
        "outputId": "c2aedb6f-c5a7-41be-8969-fa6b1aacb53f"
      },
      "execution_count": 45,
      "outputs": [
        {
          "output_type": "execute_result",
          "data": {
            "text/plain": [
              "array([[-1.7234121 ,  1.12815215, -0.46531461, -1.73899919, -0.43480148],\n",
              "       [-1.70609137,  1.12815215, -0.28372842, -1.73899919,  1.19570407],\n",
              "       [-1.68877065, -0.88640526, -0.37452151, -1.70082976, -1.71591298],\n",
              "       [-1.67144992, -0.88640526, -0.10214223, -1.70082976,  1.04041783],\n",
              "       [-1.6541292 , -0.88640526,  0.62420252, -1.66266033, -0.39597992],\n",
              "       [-1.63680847, -0.88640526, -0.19293533, -1.66266033,  1.00159627],\n",
              "       [-1.61948775, -0.88640526,  0.9873749 , -1.62449091, -1.71591298],\n",
              "       [-1.60216702, -0.88640526, -0.10214223, -1.62449091,  1.70038436],\n",
              "       [-1.5848463 ,  1.12815215, -1.19165936, -1.58632148, -1.83237767],\n",
              "       [-1.56752558, -0.88640526,  0.53340943, -1.58632148,  0.84631002],\n",
              "       [-1.55020485,  1.12815215, -1.19165936, -1.58632148, -1.4053405 ],\n",
              "       [-1.53288413, -0.88640526,  0.9873749 , -1.58632148,  1.89449216],\n",
              "       [-1.5155634 , -0.88640526, -1.19165936, -1.54815205, -1.36651894],\n",
              "       [-1.49824268, -0.88640526, -0.01134914, -1.54815205,  1.04041783],\n",
              "       [-1.48092195,  1.12815215,  1.16896109, -1.54815205, -1.44416206],\n",
              "       [-1.46360123,  1.12815215, -0.19293533, -1.54815205,  1.11806095],\n",
              "       [-1.4462805 , -0.88640526,  0.9873749 , -1.50998262, -0.59008772],\n",
              "       [-1.42895978,  1.12815215, -0.37452151, -1.50998262,  0.61338066],\n",
              "       [-1.41163905,  1.12815215, -1.19165936, -1.43364376, -0.82301709],\n",
              "       [-1.39431833, -0.88640526,  0.9873749 , -1.43364376,  1.8556706 ],\n",
              "       [-1.3769976 ,  1.12815215,  0.9873749 , -1.39547433, -0.59008772],\n",
              "       [-1.35967688,  1.12815215,  0.07944396, -1.39547433,  0.88513158],\n",
              "       [-1.34235616, -0.88640526, -1.19165936, -1.3573049 , -1.75473454],\n",
              "       [-1.32503543,  1.12815215,  0.62420252, -1.3573049 ,  0.88513158],\n",
              "       [-1.30771471, -0.88640526, -1.19165936, -1.24279661, -1.4053405 ],\n",
              "       [-1.29039398,  1.12815215,  0.44261633, -1.24279661,  1.23452563],\n",
              "       [-1.27307326, -0.88640526,  1.89530584, -1.24279661, -0.7065524 ],\n",
              "       [-1.25575253,  1.12815215,  0.9873749 , -1.24279661,  0.41927286],\n",
              "       [-1.23843181, -0.88640526,  1.44134037, -1.20462718, -0.74537397],\n",
              "       [-1.22111108, -0.88640526, -0.10214223, -1.20462718,  1.42863343],\n",
              "       [-1.20379036,  1.12815215, -1.19165936, -1.16645776, -1.7935561 ],\n",
              "       [-1.18646963, -0.88640526, -0.28372842, -1.16645776,  0.88513158],\n",
              "       [-1.16914891,  1.12815215, -1.19165936, -1.05194947, -1.7935561 ],\n",
              "       [-1.15182818,  1.12815215, -0.5561077 , -1.05194947,  1.62274124],\n",
              "       [-1.13450746, -0.88640526, -1.19165936, -1.05194947, -1.4053405 ],\n",
              "       [-1.11718674, -0.88640526, -0.28372842, -1.05194947,  1.19570407],\n",
              "       [-1.09986601, -0.88640526,  1.62292656, -1.01378004, -1.28887582],\n",
              "       [-1.08254529, -0.88640526,  0.53340943, -1.01378004,  0.88513158],\n",
              "       [-1.06522456, -0.88640526,  1.07816799, -0.89927175, -0.93948177],\n",
              "       [-1.04790384, -0.88640526, -0.37452151, -0.89927175,  0.96277471],\n",
              "       [-1.03058311, -0.88640526, -1.19165936, -0.86110232, -0.59008772],\n",
              "       [-1.01326239,  1.12815215, -0.01134914, -0.86110232,  1.62274124],\n",
              "       [-0.99594166,  1.12815215, -1.19165936, -0.82293289, -0.55126616],\n",
              "       [-0.97862094, -0.88640526,  0.62420252, -0.82293289,  0.41927286],\n",
              "       [-0.96130021, -0.88640526, -1.19165936, -0.82293289, -0.86183865],\n",
              "       [-0.94397949, -0.88640526, -0.01134914, -0.82293289,  0.5745591 ],\n",
              "       [-0.92665877, -0.88640526, -1.19165936, -0.78476346,  0.18634349],\n",
              "       [-0.90933804, -0.88640526,  0.26103015, -0.78476346, -0.12422899],\n",
              "       [-0.89201732, -0.88640526,  0.44261633, -0.78476346, -0.3183368 ],\n",
              "       [-0.87469659, -0.88640526,  0.62420252, -0.78476346, -0.3183368 ],\n",
              "       [-0.85737587, -0.88640526, -1.19165936, -0.70842461,  0.06987881],\n",
              "       [-0.84005514,  1.12815215,  0.80578871, -0.70842461,  0.38045129],\n",
              "       [-0.82273442, -0.88640526,  0.62420252, -0.67025518,  0.14752193],\n",
              "       [-0.80541369,  1.12815215, -1.19165936, -0.67025518,  0.38045129],\n",
              "       [-0.78809297, -0.88640526, -1.19165936, -0.67025518, -0.20187212],\n",
              "       [-0.77077224,  1.12815215, -1.19165936, -0.67025518, -0.35715836],\n",
              "       [-0.75345152, -0.88640526, -1.19165936, -0.63208575, -0.00776431],\n",
              "       [-0.73613079,  1.12815215, -1.19165936, -0.63208575, -0.16305055],\n",
              "       [-0.71881007, -0.88640526,  0.26103015, -0.55574689,  0.03105725],\n",
              "       [-0.70148935,  1.12815215, -1.19165936, -0.55574689, -0.16305055],\n",
              "       [-0.68416862,  1.12815215, -1.19165936, -0.55574689,  0.22516505],\n",
              "       [-0.6668479 ,  1.12815215, -0.46531461, -0.55574689,  0.18634349],\n",
              "       [-0.64952717, -0.88640526, -1.19165936, -0.51757746,  0.06987881],\n",
              "       [-0.63220645, -0.88640526, -1.19165936, -0.51757746,  0.34162973],\n",
              "       [-0.61488572,  1.12815215, -1.19165936, -0.47940803,  0.03105725],\n",
              "       [-0.597565  ,  1.12815215, -0.5561077 , -0.47940803,  0.34162973],\n",
              "       [-0.58024427, -0.88640526,  1.71371965, -0.47940803, -0.00776431],\n",
              "       [-0.56292355, -0.88640526, -1.19165936, -0.47940803, -0.08540743],\n",
              "       [-0.54560282,  1.12815215, -0.46531461, -0.47940803,  0.34162973],\n",
              "       [-0.5282821 , -0.88640526,  0.71499562, -0.47940803, -0.12422899],\n",
              "       [-0.51096138,  1.12815215, -1.19165936, -0.4412386 ,  0.18634349],\n",
              "       [-0.49364065, -0.88640526, -1.19165936, -0.4412386 , -0.3183368 ],\n",
              "       [-0.47631993, -0.88640526, -1.19165936, -0.40306917, -0.04658587],\n",
              "       [-0.4589992 , -0.88640526, -1.19165936, -0.40306917,  0.22516505],\n",
              "       [-0.44167848,  1.12815215, -1.19165936, -0.25039146, -0.12422899],\n",
              "       [-0.42435775,  1.12815215,  0.17023705, -0.25039146,  0.14752193],\n",
              "       [-0.40703703, -0.88640526,  1.89530584, -0.25039146,  0.10870037],\n",
              "       [-0.3897163 ,  1.12815215,  1.44134037, -0.25039146, -0.08540743],\n",
              "       [-0.37239558, -0.88640526, -0.10214223, -0.25039146,  0.06987881],\n",
              "       [-0.35507485, -0.88640526, -1.19165936, -0.25039146, -0.3183368 ],\n",
              "       [-0.33775413,  1.12815215, -1.19165936, -0.25039146,  0.03105725],\n",
              "       [-0.3204334 ,  1.12815215,  1.25975418, -0.25039146,  0.18634349],\n",
              "       [-0.30311268,  1.12815215, -1.19165936, -0.25039146, -0.35715836],\n",
              "       [-0.28579196, -0.88640526, -1.19165936, -0.25039146, -0.24069368],\n",
              "       [-0.26847123, -0.88640526, -0.28372842, -0.25039146,  0.26398661],\n",
              "       [-0.25115051,  1.12815215, -1.19165936, -0.25039146, -0.16305055],\n",
              "       [-0.23382978, -0.88640526, -1.19165936, -0.13588317,  0.30280817],\n",
              "       [-0.21650906, -0.88640526, -0.19293533, -0.13588317,  0.18634349],\n",
              "       [-0.19918833, -0.88640526,  0.89658181, -0.09771374,  0.38045129],\n",
              "       [-0.18186761, -0.88640526, -1.19165936, -0.09771374, -0.16305055],\n",
              "       [-0.16454688, -0.88640526, -1.19165936, -0.05954431,  0.18634349],\n",
              "       [-0.14722616,  1.12815215, -0.5561077 , -0.05954431, -0.35715836],\n",
              "       [-0.12990543,  1.12815215, -1.19165936, -0.02137488, -0.04658587],\n",
              "       [-0.11258471, -0.88640526,  1.44134037, -0.02137488, -0.39597992],\n",
              "       [-0.09526399, -0.88640526,  0.71499562, -0.02137488, -0.3183368 ],\n",
              "       [-0.07794326,  1.12815215, -0.01134914, -0.02137488,  0.06987881],\n",
              "       [-0.06062254, -0.88640526, -1.19165936, -0.02137488, -0.12422899],\n",
              "       [-0.04330181, -0.88640526,  0.26103015, -0.02137488, -0.00776431],\n",
              "       [-0.02598109,  1.12815215, -1.19165936,  0.01679455, -0.3183368 ],\n",
              "       [-0.00866036,  1.12815215, -0.37452151,  0.01679455, -0.04658587],\n",
              "       [ 0.00866036, -0.88640526, -0.10214223,  0.05496398, -0.35715836],\n",
              "       [ 0.02598109, -0.88640526, -1.19165936,  0.05496398, -0.08540743],\n",
              "       [ 0.04330181,  1.12815215, -1.19165936,  0.05496398,  0.34162973],\n",
              "       [ 0.06062254,  1.12815215,  0.17023705,  0.05496398,  0.18634349],\n",
              "       [ 0.07794326,  1.12815215, -1.19165936,  0.05496398,  0.22516505],\n",
              "       [ 0.09526399, -0.88640526, -0.28372842,  0.05496398, -0.3183368 ],\n",
              "       [ 0.11258471, -0.88640526, -1.19165936,  0.09313341, -0.00776431],\n",
              "       [ 0.12990543,  1.12815215, -1.19165936,  0.09313341, -0.16305055],\n",
              "       [ 0.14722616,  1.12815215, -1.19165936,  0.09313341, -0.27951524],\n",
              "       [ 0.16454688,  1.12815215, -1.19165936,  0.09313341, -0.08540743],\n",
              "       [ 0.18186761,  1.12815215, -1.19165936,  0.09313341,  0.06987881],\n",
              "       [ 0.19918833, -0.88640526, -0.46531461,  0.09313341,  0.14752193],\n",
              "       [ 0.21650906, -0.88640526,  1.25975418,  0.13130284, -0.3183368 ],\n",
              "       [ 0.23382978,  1.12815215, -0.46531461,  0.13130284, -0.16305055],\n",
              "       [ 0.25115051, -0.88640526, -0.5561077 ,  0.16947227, -0.08540743],\n",
              "       [ 0.26847123, -0.88640526, -0.46531461,  0.16947227, -0.00776431],\n",
              "       [ 0.28579196, -0.88640526, -1.19165936,  0.16947227, -0.27951524],\n",
              "       [ 0.30311268, -0.88640526, -1.19165936,  0.16947227,  0.34162973],\n",
              "       [ 0.3204334 , -0.88640526, -1.19165936,  0.24581112, -0.27951524],\n",
              "       [ 0.33775413, -0.88640526, -1.19165936,  0.24581112,  0.26398661],\n",
              "       [ 0.35507485,  1.12815215,  0.26103015,  0.24581112,  0.22516505],\n",
              "       [ 0.37239558, -0.88640526,  1.25975418,  0.24581112, -0.39597992],\n",
              "       [ 0.3897163 , -0.88640526,  1.44134037,  0.32214998,  0.30280817],\n",
              "       [ 0.40703703,  1.12815215,  1.35054728,  0.32214998,  1.58391968],\n",
              "       [ 0.42435775, -0.88640526, -0.10214223,  0.36031941, -0.82301709],\n",
              "       [ 0.44167848, -0.88640526,  0.62420252,  0.36031941,  1.04041783],\n",
              "       [ 0.4589992 ,  1.12815215,  1.71371965,  0.39848884, -0.59008772],\n",
              "       [ 0.47631993,  1.12815215,  1.44134037,  0.39848884,  1.73920592],\n",
              "       [ 0.49364065,  1.12815215, -1.19165936,  0.39848884, -1.52180518],\n",
              "       [ 0.51096138,  1.12815215,  1.25975418,  0.39848884,  0.96277471],\n",
              "       [ 0.5282821 ,  1.12815215, -1.19165936,  0.39848884, -1.5994483 ],\n",
              "       [ 0.54560282,  1.12815215,  1.35054728,  0.39848884,  0.96277471],\n",
              "       [ 0.56292355, -0.88640526,  0.07944396,  0.43665827, -0.62890928],\n",
              "       [ 0.58024427, -0.88640526,  0.62420252,  0.43665827,  0.80748846],\n",
              "       [ 0.597565  ,  1.12815215, -0.37452151,  0.4748277 , -1.75473454],\n",
              "       [ 0.61488572, -0.88640526,  0.44261633,  0.4748277 ,  1.46745499],\n",
              "       [ 0.63220645, -0.88640526,  1.80451275,  0.4748277 , -1.67709142],\n",
              "       [ 0.64952717,  1.12815215,  0.71499562,  0.4748277 ,  0.88513158],\n",
              "       [ 0.6668479 ,  1.12815215, -0.46531461,  0.51299713, -1.56062674],\n",
              "       [ 0.68416862, -0.88640526,  0.9873749 ,  0.51299713,  0.84631002],\n",
              "       [ 0.70148935, -0.88640526, -1.19165936,  0.55116656, -1.75473454],\n",
              "       [ 0.71881007,  1.12815215,  0.71499562,  0.55116656,  1.6615628 ],\n",
              "       [ 0.73613079, -0.88640526,  0.35182324,  0.58933599, -0.39597992],\n",
              "       [ 0.75345152, -0.88640526,  0.71499562,  0.58933599,  1.42863343],\n",
              "       [ 0.77077224,  1.12815215,  0.07944396,  0.62750542, -1.48298362],\n",
              "       [ 0.78809297,  1.12815215,  0.35182324,  0.62750542,  1.81684904],\n",
              "       [ 0.80541369,  1.12815215, -1.19165936,  0.62750542, -0.55126616],\n",
              "       [ 0.82273442, -0.88640526,  0.71499562,  0.62750542,  0.92395314],\n",
              "       [ 0.84005514, -0.88640526,  0.89658181,  0.66567484, -1.09476801],\n",
              "       [ 0.85737587,  1.12815215,  0.89658181,  0.66567484,  1.54509812],\n",
              "       [ 0.87469659,  1.12815215,  1.71371965,  0.66567484, -1.28887582],\n",
              "       [ 0.89201732,  1.12815215,  1.35054728,  0.66567484,  1.46745499],\n",
              "       [ 0.90933804, -0.88640526,  1.80451275,  0.66567484, -1.17241113],\n",
              "       [ 0.92665877, -0.88640526,  1.25975418,  0.66567484,  1.00159627],\n",
              "       [ 0.94397949, -0.88640526, -1.19165936,  0.66567484, -1.32769738],\n",
              "       [ 0.96130021, -0.88640526,  0.26103015,  0.66567484,  1.50627656],\n",
              "       [ 0.97862094,  1.12815215,  1.16896109,  0.66567484, -1.91002079],\n",
              "       [ 0.99594166, -0.88640526,  0.53340943,  0.66567484,  1.07923939],\n",
              "       [ 1.01326239,  1.12815215,  0.89658181,  0.66567484, -1.91002079],\n",
              "       [ 1.03058311, -0.88640526,  0.53340943,  0.66567484,  0.88513158],\n",
              "       [ 1.04790384, -0.88640526, -1.19165936,  0.70384427, -0.59008772],\n",
              "       [ 1.06522456, -0.88640526,  0.44261633,  0.70384427,  1.27334719],\n",
              "       [ 1.08254529,  1.12815215, -0.46531461,  0.78018313, -1.75473454],\n",
              "       [ 1.09986601, -0.88640526,  0.62420252,  0.78018313,  1.6615628 ],\n",
              "       [ 1.11718674,  1.12815215, -1.19165936,  0.93286085, -0.93948177],\n",
              "       [ 1.13450746, -0.88640526,  1.07816799,  0.93286085,  0.96277471],\n",
              "       [ 1.15182818,  1.12815215,  1.62292656,  0.97103028, -1.17241113],\n",
              "       [ 1.16914891, -0.88640526,  0.80578871,  0.97103028,  1.73920592],\n",
              "       [ 1.18646963, -0.88640526,  1.07816799,  1.00919971, -0.90066021],\n",
              "       [ 1.20379036,  1.12815215,  0.71499562,  1.00919971,  0.49691598],\n",
              "       [ 1.22111108,  1.12815215,  1.44134037,  1.00919971, -1.44416206],\n",
              "       [ 1.23843181,  1.12815215,  0.35182324,  1.00919971,  0.96277471],\n",
              "       [ 1.25575253,  1.12815215,  1.07816799,  1.00919971, -1.56062674],\n",
              "       [ 1.27307326,  1.12815215,  1.07816799,  1.00919971,  1.62274124],\n",
              "       [ 1.29039398, -0.88640526, -1.19165936,  1.04736914, -1.44416206],\n",
              "       [ 1.30771471, -0.88640526,  0.53340943,  1.04736914,  1.38981187],\n",
              "       [ 1.32503543,  1.12815215, -1.19165936,  1.04736914, -1.36651894],\n",
              "       [ 1.34235616,  1.12815215,  0.26103015,  1.04736914,  0.72984534],\n",
              "       [ 1.35967688,  1.12815215, -1.19165936,  1.23821628, -1.4053405 ],\n",
              "       [ 1.3769976 ,  1.12815215,  0.9873749 ,  1.23821628,  1.54509812],\n",
              "       [ 1.39431833, -0.88640526,  1.16896109,  1.390894  , -0.7065524 ],\n",
              "       [ 1.41163905, -0.88640526,  0.71499562,  1.390894  ,  1.38981187],\n",
              "       [ 1.42895978,  1.12815215, -1.19165936,  1.42906343, -1.36651894],\n",
              "       [ 1.4462805 , -0.88640526,  0.44261633,  1.42906343,  1.46745499],\n",
              "       [ 1.46360123, -0.88640526,  1.53213347,  1.46723286, -0.43480148],\n",
              "       [ 1.48092195,  1.12815215,  0.53340943,  1.46723286,  1.81684904],\n",
              "       [ 1.49824268, -0.88640526, -1.19165936,  1.54357172, -1.01712489],\n",
              "       [ 1.5155634 ,  1.12815215,  0.35182324,  1.54357172,  0.69102378],\n",
              "       [ 1.53288413, -0.88640526,  1.53213347,  1.61991057, -1.28887582],\n",
              "       [ 1.55020485, -0.88640526,  1.07816799,  1.61991057,  1.35099031],\n",
              "       [ 1.56752558, -0.88640526,  0.89658181,  1.61991057, -1.05594645],\n",
              "       [ 1.5848463 , -0.88640526,  0.71499562,  1.61991057,  0.72984534],\n",
              "       [ 1.60216702,  1.12815215,  0.80578871,  2.00160487, -1.63826986],\n",
              "       [ 1.61948775, -0.88640526,  1.25975418,  2.00160487,  1.58391968],\n",
              "       [ 1.63680847, -0.88640526, -1.19165936,  2.26879087, -1.32769738],\n",
              "       [ 1.6541292 , -0.88640526,  0.9873749 ,  2.26879087,  1.11806095],\n",
              "       [ 1.67144992, -0.88640526,  1.89530584,  2.49780745, -0.86183865],\n",
              "       [ 1.68877065,  1.12815215,  0.71499562,  2.49780745,  0.92395314],\n",
              "       [ 1.70609137,  1.12815215,  0.71499562,  2.91767117, -1.25005425],\n",
              "       [ 1.7234121 ,  1.12815215,  0.53340943,  2.91767117,  1.27334719]])"
            ]
          },
          "metadata": {},
          "execution_count": 45
        }
      ]
    },
    {
      "cell_type": "markdown",
      "source": [
        "9. Perform any of the clustering algorithms(Agglomerative clustering)\n",
        "\n",
        "*   List item\n",
        "*   List item\n",
        "\n"
      ],
      "metadata": {
        "id": "PIhrJiNdT2bm"
      }
    },
    {
      "cell_type": "code",
      "source": [
        "# agglomerative clustering\n",
        "from numpy import unique\n",
        "from numpy import where\n",
        "from sklearn.datasets import make_classification\n",
        "from sklearn.cluster import AgglomerativeClustering\n",
        "from matplotlib import pyplot\n",
        "\n",
        "X, _ = make_classification(n_samples=1000, n_features=2, n_informative=2, n_redundant=0, n_clusters_per_class=1, random_state=4)\n",
        "\n",
        "model = AgglomerativeClustering(n_clusters=2)\n",
        "\n",
        "yhat = model.fit_predict(X)\n",
        "\n",
        "clusters = unique(yhat)\n",
        "\n",
        "for cluster in clusters:\n",
        "\n",
        "\trow_ix = where(yhat == cluster)\n",
        "\n",
        "\tpyplot.scatter(X[row_ix, 0], X[row_ix, 1])\n",
        "\n",
        "pyplot.show()"
      ],
      "metadata": {
        "colab": {
          "base_uri": "https://localhost:8080/",
          "height": 265
        },
        "id": "p4L8wpMuZNfi",
        "outputId": "c04547d8-6c48-46c4-dd3b-3852878168b0"
      },
      "execution_count": 54,
      "outputs": [
        {
          "output_type": "display_data",
          "data": {
            "text/plain": [
              "<Figure size 432x288 with 1 Axes>"
            ],
            "image/png": "[encoded data removed]"
          },
          "metadata": {
            "needs_background": "light"
          }
        }
      ]
    },
    {
      "cell_type": "markdown",
      "source": [
        "11. Split the data into dependent and independent"
      ],
      "metadata": {
        "id": "-B8AZT_iZd9O"
      }
    },
    {
      "cell_type": "code",
      "source": [
        "x = data.iloc[:, 0:6]\n",
        "print(x)"
      ],
      "metadata": {
        "colab": {
          "base_uri": "https://localhost:8080/"
        },
        "id": "WxNU9WMpZfpY",
        "outputId": "64b2116a-e8f7-49ce-ec26-1ca639b8279c"
      },
      "execution_count": 55,
      "outputs": [
        {
          "output_type": "stream",
          "name": "stdout",
          "text": [
            "     CustomerID  Gender  Age  Annual Income (k$)  Spending Score (1-100)\n",
            "0             1       1   19                  15                      39\n",
            "1             2       1   21                  15                      81\n",
            "2             3       0   20                  16                       6\n",
            "3             4       0   23                  16                      77\n",
            "4             5       0   31                  17                      40\n",
            "..          ...     ...  ...                 ...                     ...\n",
            "195         196       0   35                 120                      79\n",
            "196         197       0   45                 126                      28\n",
            "197         198       1   32                 126                      74\n",
            "198         199       1   32                 137                      18\n",
            "199         200       1   30                 137                      83\n",
            "\n",
            "[200 rows x 5 columns]\n"
          ]
        }
      ]
    },
    {
      "cell_type": "code",
      "source": [
        "y = data['Age']\n",
        "print(y)"
      ],
      "metadata": {
        "colab": {
          "base_uri": "https://localhost:8080/"
        },
        "id": "KewbqvKaZncd",
        "outputId": "c28f1418-b476-46a1-ecbb-30c127d55d72"
      },
      "execution_count": 56,
      "outputs": [
        {
          "output_type": "stream",
          "name": "stdout",
          "text": [
            "0      19\n",
            "1      21\n",
            "2      20\n",
            "3      23\n",
            "4      31\n",
            "       ..\n",
            "195    35\n",
            "196    45\n",
            "197    32\n",
            "198    32\n",
            "199    30\n",
            "Name: Age, Length: 200, dtype: int64\n"
          ]
        }
      ]
    },
    {
      "cell_type": "markdown",
      "source": [
        "12. Split the data into training and testing"
      ],
      "metadata": {
        "id": "Oewg8qhFZ1eO"
      }
    },
    {
      "cell_type": "code",
      "source": [
        "from sklearn.model_selection import train_test_split\n",
        "x_train , x_test,y_train,y_test = train_test_split(x_scaled,y,test_size = 0.3, random_state = 0)"
      ],
      "metadata": {
        "id": "hbZQh7x6Z2w-"
      },
      "execution_count": 57,
      "outputs": []
    },
    {
      "cell_type": "code",
      "source": [
        "x_train"
      ],
      "metadata": {
        "colab": {
          "base_uri": "https://localhost:8080/"
        },
        "id": "GUqtPD9XZ6rh",
        "outputId": "5df6bfd0-7bac-4dbd-8ab3-ae6ea12a23d8"
      },
      "execution_count": 58,
      "outputs": [
        {
          "output_type": "execute_result",
          "data": {
            "text/plain": [
              "array([[ 0.54560282,  1.12815215,  1.35054728,  0.39848884,  0.96277471],\n",
              "       [-0.06062254, -0.88640526, -1.19165936, -0.02137488, -0.12422899],\n",
              "       [ 1.41163905, -0.88640526,  0.71499562,  1.390894  ,  1.38981187],\n",
              "       [-1.39431833, -0.88640526,  0.9873749 , -1.43364376,  1.8556706 ],\n",
              "       [ 0.92665877, -0.88640526,  1.25975418,  0.66567484,  1.00159627],\n",
              "       [-0.12990543,  1.12815215, -1.19165936, -0.02137488, -0.04658587],\n",
              "       [-0.78809297, -0.88640526, -1.19165936, -0.67025518, -0.20187212],\n",
              "       [ 1.09986601, -0.88640526,  0.62420252,  0.78018313,  1.6615628 ],\n",
              "       [-0.84005514,  1.12815215,  0.80578871, -0.70842461,  0.38045129],\n",
              "       [-0.23382978, -0.88640526, -1.19165936, -0.13588317,  0.30280817],\n",
              "       [ 0.68416862, -0.88640526,  0.9873749 ,  0.51299713,  0.84631002],\n",
              "       [-0.16454688, -0.88640526, -1.19165936, -0.05954431,  0.18634349],\n",
              "       [ 0.64952717,  1.12815215,  0.71499562,  0.4748277 ,  0.88513158],\n",
              "       [ 0.02598109, -0.88640526, -1.19165936,  0.05496398, -0.08540743],\n",
              "       [ 0.77077224,  1.12815215,  0.07944396,  0.62750542, -1.48298362],\n",
              "       [-0.18186761, -0.88640526, -1.19165936, -0.09771374, -0.16305055],\n",
              "       [ 0.16454688,  1.12815215, -1.19165936,  0.09313341, -0.08540743],\n",
              "       [-1.48092195,  1.12815215,  1.16896109, -1.54815205, -1.44416206],\n",
              "       [-1.25575253,  1.12815215,  0.9873749 , -1.24279661,  0.41927286],\n",
              "       [ 0.71881007,  1.12815215,  0.71499562,  0.55116656,  1.6615628 ],\n",
              "       [ 1.5155634 ,  1.12815215,  0.35182324,  1.54357172,  0.69102378],\n",
              "       [-0.92665877, -0.88640526, -1.19165936, -0.78476346,  0.18634349],\n",
              "       [ 0.6668479 ,  1.12815215, -0.46531461,  0.51299713, -1.56062674],\n",
              "       [ 1.6541292 , -0.88640526,  0.9873749 ,  2.26879087,  1.11806095],\n",
              "       [ 0.14722616,  1.12815215, -1.19165936,  0.09313341, -0.27951524],\n",
              "       [-0.64952717, -0.88640526, -1.19165936, -0.51757746,  0.06987881],\n",
              "       [-1.68877065, -0.88640526, -0.37452151, -1.70082976, -1.71591298],\n",
              "       [-0.70148935,  1.12815215, -1.19165936, -0.55574689, -0.16305055],\n",
              "       [ 0.63220645, -0.88640526,  1.80451275,  0.4748277 , -1.67709142],\n",
              "       [ 1.68877065,  1.12815215,  0.71499562,  2.49780745,  0.92395314],\n",
              "       [-0.97862094, -0.88640526,  0.62420252, -0.82293289,  0.41927286],\n",
              "       [-1.55020485,  1.12815215, -1.19165936, -1.58632148, -1.4053405 ],\n",
              "       [ 1.63680847, -0.88640526, -1.19165936,  2.26879087, -1.32769738],\n",
              "       [-0.4589992 , -0.88640526, -1.19165936, -0.40306917,  0.22516505],\n",
              "       [ 1.67144992, -0.88640526,  1.89530584,  2.49780745, -0.86183865],\n",
              "       [ 1.35967688,  1.12815215, -1.19165936,  1.23821628, -1.4053405 ],\n",
              "       [ 1.30771471, -0.88640526,  0.53340943,  1.04736914,  1.38981187],\n",
              "       [ 0.4589992 ,  1.12815215,  1.71371965,  0.39848884, -0.59008772],\n",
              "       [-0.11258471, -0.88640526,  1.44134037, -0.02137488, -0.39597992],\n",
              "       [ 0.21650906, -0.88640526,  1.25975418,  0.13130284, -0.3183368 ],\n",
              "       [ 1.01326239,  1.12815215,  0.89658181,  0.66567484, -1.91002079],\n",
              "       [ 1.5848463 , -0.88640526,  0.71499562,  1.61991057,  0.72984534],\n",
              "       [-0.85737587, -0.88640526, -1.19165936, -0.70842461,  0.06987881],\n",
              "       [-1.7234121 ,  1.12815215, -0.46531461, -1.73899919, -0.43480148],\n",
              "       [-0.09526399, -0.88640526,  0.71499562, -0.02137488, -0.3183368 ],\n",
              "       [ 0.18186761,  1.12815215, -1.19165936,  0.09313341,  0.06987881],\n",
              "       [-0.07794326,  1.12815215, -0.01134914, -0.02137488,  0.06987881],\n",
              "       [-0.61488572,  1.12815215, -1.19165936, -0.47940803,  0.03105725],\n",
              "       [ 1.16914891, -0.88640526,  0.80578871,  0.97103028,  1.73920592],\n",
              "       [-1.01326239,  1.12815215, -0.01134914, -0.86110232,  1.62274124],\n",
              "       [-0.5282821 , -0.88640526,  0.71499562, -0.47940803, -0.12422899],\n",
              "       [-0.87469659, -0.88640526,  0.62420252, -0.78476346, -0.3183368 ],\n",
              "       [-0.89201732, -0.88640526,  0.44261633, -0.78476346, -0.3183368 ],\n",
              "       [-0.25115051,  1.12815215, -1.19165936, -0.25039146, -0.16305055],\n",
              "       [-1.49824268, -0.88640526, -0.01134914, -1.54815205,  1.04041783],\n",
              "       [ 1.06522456, -0.88640526,  0.44261633,  0.70384427,  1.27334719],\n",
              "       [-1.32503543,  1.12815215,  0.62420252, -1.3573049 ,  0.88513158],\n",
              "       [ 1.49824268, -0.88640526, -1.19165936,  1.54357172, -1.01712489],\n",
              "       [ 0.61488572, -0.88640526,  0.44261633,  0.4748277 ,  1.46745499],\n",
              "       [-1.3769976 ,  1.12815215,  0.9873749 , -1.39547433, -0.59008772],\n",
              "       [-1.46360123,  1.12815215, -0.19293533, -1.54815205,  1.11806095],\n",
              "       [-0.37239558, -0.88640526, -0.10214223, -0.25039146,  0.06987881],\n",
              "       [ 0.07794326,  1.12815215, -1.19165936,  0.05496398,  0.22516505],\n",
              "       [-0.82273442, -0.88640526,  0.62420252, -0.67025518,  0.14752193],\n",
              "       [ 0.00866036, -0.88640526, -0.10214223,  0.05496398, -0.35715836],\n",
              "       [-0.40703703, -0.88640526,  1.89530584, -0.25039146,  0.10870037],\n",
              "       [-1.67144992, -0.88640526, -0.10214223, -1.70082976,  1.04041783],\n",
              "       [ 0.28579196, -0.88640526, -1.19165936,  0.16947227, -0.27951524],\n",
              "       [ 1.11718674,  1.12815215, -1.19165936,  0.93286085, -0.93948177],\n",
              "       [ 1.70609137,  1.12815215,  0.71499562,  2.91767117, -1.25005425],\n",
              "       [-1.61948775, -0.88640526,  0.9873749 , -1.62449091, -1.71591298],\n",
              "       [-0.54560282,  1.12815215, -0.46531461, -0.47940803,  0.34162973],\n",
              "       [-0.26847123, -0.88640526, -0.28372842, -0.25039146,  0.26398661],\n",
              "       [ 0.37239558, -0.88640526,  1.25975418,  0.24581112, -0.39597992],\n",
              "       [ 0.96130021, -0.88640526,  0.26103015,  0.66567484,  1.50627656],\n",
              "       [ 1.23843181,  1.12815215,  0.35182324,  1.00919971,  0.96277471],\n",
              "       [ 0.97862094,  1.12815215,  1.16896109,  0.66567484, -1.91002079],\n",
              "       [-0.14722616,  1.12815215, -0.5561077 , -0.05954431, -0.35715836],\n",
              "       [ 1.7234121 ,  1.12815215,  0.53340943,  2.91767117,  1.27334719],\n",
              "       [-1.53288413, -0.88640526,  0.9873749 , -1.58632148,  1.89449216],\n",
              "       [ 0.33775413, -0.88640526, -1.19165936,  0.24581112,  0.26398661],\n",
              "       [ 0.04330181,  1.12815215, -1.19165936,  0.05496398,  0.34162973],\n",
              "       [-1.11718674, -0.88640526, -0.28372842, -1.05194947,  1.19570407],\n",
              "       [-0.73613079,  1.12815215, -1.19165936, -0.63208575, -0.16305055],\n",
              "       [-0.597565  ,  1.12815215, -0.5561077 , -0.47940803,  0.34162973],\n",
              "       [-1.70609137,  1.12815215, -0.28372842, -1.73899919,  1.19570407],\n",
              "       [ 0.35507485,  1.12815215,  0.26103015,  0.24581112,  0.22516505],\n",
              "       [ 1.08254529,  1.12815215, -0.46531461,  0.78018313, -1.75473454],\n",
              "       [-0.99594166,  1.12815215, -1.19165936, -0.82293289, -0.55126616],\n",
              "       [ 0.09526399, -0.88640526, -0.28372842,  0.05496398, -0.3183368 ],\n",
              "       [ 0.56292355, -0.88640526,  0.07944396,  0.43665827, -0.62890928],\n",
              "       [ 1.27307326,  1.12815215,  1.07816799,  1.00919971,  1.62274124],\n",
              "       [-1.42895978,  1.12815215, -0.37452151, -1.50998262,  0.61338066],\n",
              "       [-1.06522456, -0.88640526,  1.07816799, -0.89927175, -0.93948177],\n",
              "       [ 0.58024427, -0.88640526,  0.62420252,  0.43665827,  0.80748846],\n",
              "       [-0.80541369,  1.12815215, -1.19165936, -0.67025518,  0.38045129],\n",
              "       [ 0.99594166, -0.88640526,  0.53340943,  0.66567484,  1.07923939],\n",
              "       [ 0.49364065,  1.12815215, -1.19165936,  0.39848884, -1.52180518],\n",
              "       [-1.13450746, -0.88640526, -1.19165936, -1.05194947, -1.4053405 ],\n",
              "       [-1.23843181, -0.88640526,  1.44134037, -1.20462718, -0.74537397],\n",
              "       [ 0.25115051, -0.88640526, -0.5561077 ,  0.16947227, -0.08540743],\n",
              "       [ 0.89201732,  1.12815215,  1.35054728,  0.66567484,  1.46745499],\n",
              "       [-1.18646963, -0.88640526, -0.28372842, -1.16645776,  0.88513158],\n",
              "       [ 1.15182818,  1.12815215,  1.62292656,  0.97103028, -1.17241113],\n",
              "       [ 0.47631993,  1.12815215,  1.44134037,  0.39848884,  1.73920592],\n",
              "       [ 1.32503543,  1.12815215, -1.19165936,  1.04736914, -1.36651894],\n",
              "       [-1.16914891,  1.12815215, -1.19165936, -1.05194947, -1.7935561 ],\n",
              "       [ 0.73613079, -0.88640526,  0.35182324,  0.58933599, -0.39597992],\n",
              "       [ 1.20379036,  1.12815215,  0.71499562,  1.00919971,  0.49691598],\n",
              "       [ 0.82273442, -0.88640526,  0.71499562,  0.62750542,  0.92395314],\n",
              "       [-1.22111108, -0.88640526, -0.10214223, -1.20462718,  1.42863343],\n",
              "       [-0.00866036,  1.12815215, -0.37452151,  0.01679455, -0.04658587],\n",
              "       [-0.30311268,  1.12815215, -1.19165936, -0.25039146, -0.35715836],\n",
              "       [-0.35507485, -0.88640526, -1.19165936, -0.25039146, -0.3183368 ],\n",
              "       [ 0.26847123, -0.88640526, -0.46531461,  0.16947227, -0.00776431],\n",
              "       [ 0.84005514, -0.88640526,  0.89658181,  0.66567484, -1.09476801],\n",
              "       [ 1.61948775, -0.88640526,  1.25975418,  2.00160487,  1.58391968],\n",
              "       [-0.47631993, -0.88640526, -1.19165936, -0.40306917, -0.04658587],\n",
              "       [-0.3897163 ,  1.12815215,  1.44134037, -0.25039146, -0.08540743],\n",
              "       [-1.29039398,  1.12815215,  0.44261633, -1.24279661,  1.23452563],\n",
              "       [ 1.13450746, -0.88640526,  1.07816799,  0.93286085,  0.96277471],\n",
              "       [-0.3204334 ,  1.12815215,  1.25975418, -0.25039146,  0.18634349],\n",
              "       [ 1.53288413, -0.88640526,  1.53213347,  1.61991057, -1.28887582],\n",
              "       [ 1.29039398, -0.88640526, -1.19165936,  1.04736914, -1.44416206],\n",
              "       [ 1.56752558, -0.88640526,  0.89658181,  1.61991057, -1.05594645],\n",
              "       [-1.04790384, -0.88640526, -0.37452151, -0.89927175,  0.96277471],\n",
              "       [-0.71881007, -0.88640526,  0.26103015, -0.55574689,  0.03105725],\n",
              "       [ 0.70148935, -0.88640526, -1.19165936,  0.55116656, -1.75473454],\n",
              "       [-0.19918833, -0.88640526,  0.89658181, -0.09771374,  0.38045129],\n",
              "       [-0.51096138,  1.12815215, -1.19165936, -0.4412386 ,  0.18634349],\n",
              "       [-0.21650906, -0.88640526, -0.19293533, -0.13588317,  0.18634349],\n",
              "       [-1.09986601, -0.88640526,  1.62292656, -1.01378004, -1.28887582],\n",
              "       [-1.35967688,  1.12815215,  0.07944396, -1.39547433,  0.88513158],\n",
              "       [-1.56752558, -0.88640526,  0.53340943, -1.58632148,  0.84631002],\n",
              "       [ 0.06062254,  1.12815215,  0.17023705,  0.05496398,  0.18634349],\n",
              "       [-0.56292355, -0.88640526, -1.19165936, -0.47940803, -0.08540743],\n",
              "       [ 1.60216702,  1.12815215,  0.80578871,  2.00160487, -1.63826986],\n",
              "       [ 0.30311268, -0.88640526, -1.19165936,  0.16947227,  0.34162973],\n",
              "       [-0.90933804, -0.88640526,  0.26103015, -0.78476346, -0.12422899],\n",
              "       [ 1.25575253,  1.12815215,  1.07816799,  1.00919971, -1.56062674]])"
            ]
          },
          "metadata": {},
          "execution_count": 58
        }
      ]
    },
    {
      "cell_type": "code",
      "source": [
        "x_train.shape"
      ],
      "metadata": {
        "colab": {
          "base_uri": "https://localhost:8080/"
        },
        "id": "usKWde-HZ-Ym",
        "outputId": "aef23342-5147-4461-91fe-9a415c9fdb67"
      },
      "execution_count": 59,
      "outputs": [
        {
          "output_type": "execute_result",
          "data": {
            "text/plain": [
              "(140, 5)"
            ]
          },
          "metadata": {},
          "execution_count": 59
        }
      ]
    },
    {
      "cell_type": "code",
      "source": [
        "x_test"
      ],
      "metadata": {
        "colab": {
          "base_uri": "https://localhost:8080/"
        },
        "id": "I0GJzGmhaB55",
        "outputId": "f02c9feb-57cc-42a7-cf57-fc19830970fe"
      },
      "execution_count": 60,
      "outputs": [
        {
          "output_type": "execute_result",
          "data": {
            "text/plain": [
              "array([[-1.41163905,  1.12815215, -1.19165936, -1.43364376, -0.82301709],\n",
              "       [ 1.22111108,  1.12815215,  1.44134037,  1.00919971, -1.44416206],\n",
              "       [ 0.12990543,  1.12815215, -1.19165936,  0.09313341, -0.16305055],\n",
              "       [-0.02598109,  1.12815215, -1.19165936,  0.01679455, -0.3183368 ],\n",
              "       [ 1.34235616,  1.12815215,  0.26103015,  1.04736914,  0.72984534],\n",
              "       [ 1.42895978,  1.12815215, -1.19165936,  1.42906343, -1.36651894],\n",
              "       [-1.63680847, -0.88640526, -0.19293533, -1.66266033,  1.00159627],\n",
              "       [ 0.80541369,  1.12815215, -1.19165936,  0.62750542, -0.55126616],\n",
              "       [-1.5155634 , -0.88640526, -1.19165936, -1.54815205, -1.36651894],\n",
              "       [ 0.90933804, -0.88640526,  1.80451275,  0.66567484, -1.17241113],\n",
              "       [-0.6668479 ,  1.12815215, -0.46531461, -0.55574689,  0.18634349],\n",
              "       [ 0.44167848, -0.88640526,  0.62420252,  0.36031941,  1.04041783],\n",
              "       [ 1.39431833, -0.88640526,  1.16896109,  1.390894  , -0.7065524 ],\n",
              "       [ 0.94397949, -0.88640526, -1.19165936,  0.66567484, -1.32769738],\n",
              "       [-0.33775413,  1.12815215, -1.19165936, -0.25039146,  0.03105725],\n",
              "       [-1.60216702, -0.88640526, -0.10214223, -1.62449091,  1.70038436],\n",
              "       [-1.15182818,  1.12815215, -0.5561077 , -1.05194947,  1.62274124],\n",
              "       [ 0.5282821 ,  1.12815215, -1.19165936,  0.39848884, -1.5994483 ],\n",
              "       [-1.08254529, -0.88640526,  0.53340943, -1.01378004,  0.88513158],\n",
              "       [-0.44167848,  1.12815215, -1.19165936, -0.25039146, -0.12422899],\n",
              "       [ 1.4462805 , -0.88640526,  0.44261633,  1.42906343,  1.46745499],\n",
              "       [ 0.78809297,  1.12815215,  0.35182324,  0.62750542,  1.81684904],\n",
              "       [-0.94397949, -0.88640526, -0.01134914, -0.82293289,  0.5745591 ],\n",
              "       [ 1.03058311, -0.88640526,  0.53340943,  0.66567484,  0.88513158],\n",
              "       [-0.68416862,  1.12815215, -1.19165936, -0.55574689,  0.22516505],\n",
              "       [ 0.40703703,  1.12815215,  1.35054728,  0.32214998,  1.58391968],\n",
              "       [ 1.3769976 ,  1.12815215,  0.9873749 ,  1.23821628,  1.54509812],\n",
              "       [ 1.48092195,  1.12815215,  0.53340943,  1.46723286,  1.81684904],\n",
              "       [ 0.3897163 , -0.88640526,  1.44134037,  0.32214998,  0.30280817],\n",
              "       [-0.96130021, -0.88640526, -1.19165936, -0.82293289, -0.86183865],\n",
              "       [-1.4462805 , -0.88640526,  0.9873749 , -1.50998262, -0.59008772],\n",
              "       [-0.77077224,  1.12815215, -1.19165936, -0.67025518, -0.35715836],\n",
              "       [ 0.87469659,  1.12815215,  1.71371965,  0.66567484, -1.28887582],\n",
              "       [ 0.19918833, -0.88640526, -0.46531461,  0.09313341,  0.14752193],\n",
              "       [-1.34235616, -0.88640526, -1.19165936, -1.3573049 , -1.75473454],\n",
              "       [ 1.55020485, -0.88640526,  1.07816799,  1.61991057,  1.35099031],\n",
              "       [ 0.51096138,  1.12815215,  1.25975418,  0.39848884,  0.96277471],\n",
              "       [-1.6541292 , -0.88640526,  0.62420252, -1.66266033, -0.39597992],\n",
              "       [-0.28579196, -0.88640526, -1.19165936, -0.25039146, -0.24069368],\n",
              "       [ 0.11258471, -0.88640526, -1.19165936,  0.09313341, -0.00776431],\n",
              "       [ 0.597565  ,  1.12815215, -0.37452151,  0.4748277 , -1.75473454],\n",
              "       [-0.58024427, -0.88640526,  1.71371965, -0.47940803, -0.00776431],\n",
              "       [-1.27307326, -0.88640526,  1.89530584, -1.24279661, -0.7065524 ],\n",
              "       [ 0.23382978,  1.12815215, -0.46531461,  0.13130284, -0.16305055],\n",
              "       [ 1.18646963, -0.88640526,  1.07816799,  1.00919971, -0.90066021],\n",
              "       [-0.63220645, -0.88640526, -1.19165936, -0.51757746,  0.34162973],\n",
              "       [-1.5848463 ,  1.12815215, -1.19165936, -1.58632148, -1.83237767],\n",
              "       [-0.42435775,  1.12815215,  0.17023705, -0.25039146,  0.14752193],\n",
              "       [ 0.3204334 , -0.88640526, -1.19165936,  0.24581112, -0.27951524],\n",
              "       [ 0.75345152, -0.88640526,  0.71499562,  0.58933599,  1.42863343],\n",
              "       [-0.49364065, -0.88640526, -1.19165936, -0.4412386 , -0.3183368 ],\n",
              "       [ 0.42435775, -0.88640526, -0.10214223,  0.36031941, -0.82301709],\n",
              "       [ 1.46360123, -0.88640526,  1.53213347,  1.46723286, -0.43480148],\n",
              "       [-0.04330181, -0.88640526,  0.26103015, -0.02137488, -0.00776431],\n",
              "       [ 0.85737587,  1.12815215,  0.89658181,  0.66567484,  1.54509812],\n",
              "       [-1.30771471, -0.88640526, -1.19165936, -1.24279661, -1.4053405 ],\n",
              "       [-1.20379036,  1.12815215, -1.19165936, -1.16645776, -1.7935561 ],\n",
              "       [ 1.04790384, -0.88640526, -1.19165936,  0.70384427, -0.59008772],\n",
              "       [-1.03058311, -0.88640526, -1.19165936, -0.86110232, -0.59008772],\n",
              "       [-0.75345152, -0.88640526, -1.19165936, -0.63208575, -0.00776431]])"
            ]
          },
          "metadata": {},
          "execution_count": 60
        }
      ]
    },
    {
      "cell_type": "code",
      "source": [
        "x_test.shape"
      ],
      "metadata": {
        "colab": {
          "base_uri": "https://localhost:8080/"
        },
        "id": "1IyUnORIaFjT",
        "outputId": "30465c0d-9a35-44da-b386-b0acc662fd76"
      },
      "execution_count": 61,
      "outputs": [
        {
          "output_type": "execute_result",
          "data": {
            "text/plain": [
              "(60, 5)"
            ]
          },
          "metadata": {},
          "execution_count": 61
        }
      ]
    },
    {
      "cell_type": "code",
      "source": [
        "y_train"
      ],
      "metadata": {
        "colab": {
          "base_uri": "https://localhost:8080/"
        },
        "id": "MHcZtQEXaLMc",
        "outputId": "9c2006af-3e62-44bc-8e69-66c6348e8a78"
      },
      "execution_count": 62,
      "outputs": [
        {
          "output_type": "execute_result",
          "data": {
            "text/plain": [
              "131    39\n",
              "96     11\n",
              "181    32\n",
              "19     35\n",
              "153    38\n",
              "       ..\n",
              "67     11\n",
              "192    33\n",
              "117    11\n",
              "47     27\n",
              "172    36\n",
              "Name: Age, Length: 140, dtype: int64"
            ]
          },
          "metadata": {},
          "execution_count": 62
        }
      ]
    },
    {
      "cell_type": "code",
      "source": [
        "y_train.shape"
      ],
      "metadata": {
        "colab": {
          "base_uri": "https://localhost:8080/"
        },
        "id": "tTX1gIyDaOQz",
        "outputId": "7e30fae5-8985-410d-de85-24c18178ef9e"
      },
      "execution_count": 63,
      "outputs": [
        {
          "output_type": "execute_result",
          "data": {
            "text/plain": [
              "(140,)"
            ]
          },
          "metadata": {},
          "execution_count": 63
        }
      ]
    },
    {
      "cell_type": "code",
      "source": [
        "y_test"
      ],
      "metadata": {
        "colab": {
          "base_uri": "https://localhost:8080/"
        },
        "id": "89vXVUxDaREZ",
        "outputId": "3d88e624-6f37-4df2-aef6-8e73f7cab02b"
      },
      "execution_count": 64,
      "outputs": [
        {
          "output_type": "execute_result",
          "data": {
            "text/plain": [
              "18     11\n",
              "170    40\n",
              "107    11\n",
              "98     11\n",
              "177    27\n",
              "182    11\n",
              "5      22\n",
              "146    11\n",
              "12     11\n",
              "152    44\n",
              "61     19\n",
              "125    31\n",
              "180    37\n",
              "154    11\n",
              "80     11\n",
              "7      23\n",
              "33     18\n",
              "130    11\n",
              "37     30\n",
              "74     11\n",
              "183    29\n",
              "145    28\n",
              "45     24\n",
              "159    30\n",
              "60     11\n",
              "123    39\n",
              "179    35\n",
              "185    30\n",
              "122    40\n",
              "44     11\n",
              "16     35\n",
              "55     11\n",
              "150    43\n",
              "111    19\n",
              "22     11\n",
              "189    36\n",
              "129    38\n",
              "4      31\n",
              "83     11\n",
              "106    11\n",
              "134    20\n",
              "66     43\n",
              "26     45\n",
              "113    19\n",
              "168    36\n",
              "63     11\n",
              "8      11\n",
              "75     26\n",
              "118    11\n",
              "143    32\n",
              "71     11\n",
              "124    23\n",
              "184    41\n",
              "97     27\n",
              "149    34\n",
              "24     11\n",
              "30     11\n",
              "160    11\n",
              "40     11\n",
              "56     11\n",
              "Name: Age, dtype: int64"
            ]
          },
          "metadata": {},
          "execution_count": 64
        }
      ]
    },
    {
      "cell_type": "code",
      "source": [
        "y_test.shape"
      ],
      "metadata": {
        "colab": {
          "base_uri": "https://localhost:8080/"
        },
        "id": "lWGWyd9xaRL4",
        "outputId": "4fd0c0bc-4790-4399-9ec2-c879a9de5e47"
      },
      "execution_count": 65,
      "outputs": [
        {
          "output_type": "execute_result",
          "data": {
            "text/plain": [
              "(60,)"
            ]
          },
          "metadata": {},
          "execution_count": 65
        }
      ]
    },
    {
      "cell_type": "markdown",
      "source": [
        "13. Build the Model"
      ],
      "metadata": {
        "id": "HUX41WQLaZB0"
      }
    },
    {
      "cell_type": "code",
      "source": [
        "from sklearn.linear_model import LinearRegression\n",
        "lr = LinearRegression()\n",
        "lr.fit(x_train,y_train)"
      ],
      "metadata": {
        "colab": {
          "base_uri": "https://localhost:8080/"
        },
        "id": "Enpvo5naaaUE",
        "outputId": "22c9b84b-f40a-4325-ae92-adf9e8e41df4"
      },
      "execution_count": 66,
      "outputs": [
        {
          "output_type": "execute_result",
          "data": {
            "text/plain": [
              "LinearRegression()"
            ]
          },
          "metadata": {},
          "execution_count": 66
        }
      ]
    },
    {
      "cell_type": "code",
      "source": [
        "pred = lr.predict(x_test)"
      ],
      "metadata": {
        "id": "btWppgHQadVn"
      },
      "execution_count": 67,
      "outputs": []
    },
    {
      "cell_type": "code",
      "source": [
        "pred"
      ],
      "metadata": {
        "colab": {
          "base_uri": "https://localhost:8080/"
        },
        "id": "B6vQEm3xahms",
        "outputId": "d1bd10e2-dda6-4aff-ccaa-5bb312a62fe2"
      },
      "execution_count": 68,
      "outputs": [
        {
          "output_type": "execute_result",
          "data": {
            "text/plain": [
              "array([11., 40., 11., 11., 27., 11., 22., 11., 11., 44., 19., 31., 37.,\n",
              "       11., 11., 23., 18., 11., 30., 11., 29., 28., 24., 30., 11., 39.,\n",
              "       35., 30., 40., 11., 35., 11., 43., 19., 11., 36., 38., 31., 11.,\n",
              "       11., 20., 43., 45., 19., 36., 11., 11., 26., 11., 32., 11., 23.,\n",
              "       41., 27., 34., 11., 11., 11., 11., 11.])"
            ]
          },
          "metadata": {},
          "execution_count": 68
        }
      ]
    },
    {
      "cell_type": "markdown",
      "source": [
        "16. Measure the performance using Evaluation Metrics."
      ],
      "metadata": {
        "id": "7nKJXotZamNT"
      }
    },
    {
      "cell_type": "code",
      "source": [
        "from sklearn.metrics import r2_score\n",
        "r2_score(pred,y_test)"
      ],
      "metadata": {
        "colab": {
          "base_uri": "https://localhost:8080/"
        },
        "id": "ii8XyHx2anWc",
        "outputId": "bf6453ed-b0cf-47af-bcb0-cfe11053221d"
      },
      "execution_count": 69,
      "outputs": [
        {
          "output_type": "execute_result",
          "data": {
            "text/plain": [
              "1.0"
            ]
          },
          "metadata": {},
          "execution_count": 69
        }
      ]
    }
  ]
}